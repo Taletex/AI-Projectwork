{
 "cells": [
  {
   "cell_type": "markdown",
   "metadata": {},
   "source": [
    "## Face classification"
   ]
  },
  {
   "cell_type": "code",
   "execution_count": 2,
   "metadata": {},
   "outputs": [],
   "source": [
    "import torch\n",
    "from matplotlib import pyplot as plt\n",
    "from torchvision import datasets\n",
    "from torchvision.datasets import ImageFolder\n",
    "from torch.utils.data import DataLoader\n",
    "import torchvision.transforms.functional as TF\n",
    "import torchvision.transforms as T\n",
    "import os\n",
    "import argparse\n",
    "import numpy as np\n",
    "import shutil\n",
    "from glob import glob\n",
    "from random import shuffle\n",
    "from PIL import Image\n"
   ]
  },
  {
   "cell_type": "code",
   "execution_count": 3,
   "metadata": {},
   "outputs": [],
   "source": [
    "# Class map\n",
    "class_names = {0: 'Black', 1: 'White'}\n",
    "\n",
    "# Split the dataset into train, test and val folders\n",
    "args = {\"source\": \"../datasets/black_white\", \"dest\": \"../datasets/black_white_splitted\", \"val_size\": 0.1, \"train_size\": 0.7, \"test_size\": 0.2}\n",
    "\n",
    "# Crea le cartelle di destinazione (se non esistono)\n",
    "if not os.path.exists(args[\"dest\"]):\n",
    "    os.makedirs(args[\"dest\"])\n",
    "\n",
    "dest_train = os.path.join(args[\"dest\"], \"train\")\n",
    "if not os.path.exists(dest_train):\n",
    "    os.makedirs(dest_train)\n",
    "\n",
    "dest_test = os.path.join(args[\"dest\"], \"test\")\n",
    "if not os.path.exists(dest_test):\n",
    "    os.makedirs(dest_test)\n",
    "\n",
    "dest_val = os.path.join(args[\"dest\"], \"val\")\n",
    "if not os.path.exists(dest_val):\n",
    "    os.makedirs(dest_val)\n",
    "\n",
    "class_dirs = os.listdir(args[\"source\"])\n",
    "for class_dir in class_dirs:\n",
    "    class_dir_path = os.path.join(args[\"source\"], class_dir)\n",
    "    num_elem = len(os.listdir(class_dir_path))\n",
    "    total_indices = np.arange(num_elem)\n",
    "    val_indices = np.random.choice(total_indices,\n",
    "                                   size=int(num_elem*args[\"val_size\"]),\n",
    "                                   replace=False)\n",
    "    total_indices = np.delete(total_indices, val_indices)\n",
    "    test_indices = np.random.choice(total_indices,\n",
    "                                   size=int(num_elem*args[\"test_size\"]),\n",
    "                                   replace=False)\n",
    "\n",
    "    if not os.path.exists(os.path.join(dest_train, class_dir)):\n",
    "        os.mkdir(os.path.join(dest_train, class_dir))\n",
    "    if not os.path.exists(os.path.join(dest_test, class_dir)):\n",
    "        os.mkdir(os.path.join(dest_test, class_dir))\n",
    "    if not os.path.exists(os.path.join(dest_val, class_dir)):\n",
    "        os.mkdir(os.path.join(dest_val, class_dir))\n",
    "        \n",
    "    for index, filename in enumerate(os.listdir(class_dir_path)):\n",
    "            if index in val_indices:\n",
    "                shutil.copy(os.path.join(class_dir_path, filename), os.path.join(dest_val, class_dir))\n",
    "            elif index in test_indices:\n",
    "                shutil.copy(os.path.join(class_dir_path, filename), os.path.join(dest_test, class_dir))\n",
    "            else:\n",
    "                shutil.copy(os.path.join(class_dir_path, filename), os.path.join(dest_train, class_dir))"
   ]
  },
  {
   "cell_type": "markdown",
   "metadata": {},
   "source": [
    "### Image dataset transforms\n",
    "The `torchvision.transforms` module includes additional classes specific for image pre-processing. Some of them are:\n",
    "\n",
    "- `Resize`: resizes an image;\n",
    "- `RandomCrop`: randomly crops an image (data augmentation during training);\n",
    "- `RandomHorizontalFlip`: randomly flips an image (data augmentation during training);\n",
    "- `CenterCrop`: crops the central area of an image (used in testing, as counterpart to `RandomCrop`);\n",
    "- `Normalize`: performs standardization, given per-channel means and standard deviations.\n",
    "\n",
    "Usually, to do data augmentation, you crop an image to an area which is slightly smaller than the full size."
   ]
  },
  {
   "cell_type": "code",
   "execution_count": 4,
   "metadata": {},
   "outputs": [],
   "source": [
    "# Params\n",
    "resize = T.Resize(32)  \n",
    "random_crop = T.RandomCrop(28)             # train\n",
    "random_hor_flip = T.RandomHorizontalFlip()  # train\n",
    "center_crop = T.CenterCrop(28)             # test and val\n",
    "to_tensor = T.ToTensor()\n",
    "normalize = T.Normalize(mean=(0.4914, 0.4822, 0.4465), std=(0.247, 0.243, 0.261))\n",
    "\n",
    "# Compose transforms\n",
    "train_transform = T.Compose([resize, random_crop, random_hor_flip, to_tensor, normalize])\n",
    "test_transform = T.Compose([resize, center_crop, to_tensor, normalize])\n",
    "val_transform = T.Compose([resize, center_crop, to_tensor, normalize])"
   ]
  },
  {
   "cell_type": "code",
   "execution_count": 5,
   "metadata": {
    "scrolled": true
   },
   "outputs": [
    {
     "name": "stdout",
     "output_type": "stream",
     "text": [
      "Num. classes: 2\n",
      "Num. train samples: 99990\n",
      "Num. valid. samples: 56977\n",
      "Num. test samples: 83284\n"
     ]
    }
   ],
   "source": [
    "# Instantiate datasets\n",
    "root_dir = \"../datasets/\"\n",
    "train_dataset = ImageFolder(os.path.join(root_dir, \"black_white_splitted\", \"train\"), transform=train_transform) \n",
    "val_dataset = ImageFolder(os.path.join(root_dir, \"black_white_splitted\", \"val\"), transform=val_transform)\n",
    "test_dataset = ImageFolder(os.path.join(root_dir, \"black_white_splitted\", \"test\"), transform=test_transform) \n",
    "\n",
    "# Get number of classes (we'll need it in the model)\n",
    "num_classes = len(train_dataset.classes)\n",
    "batch_size = 64\n",
    "\n",
    "# Print dataset statistics\n",
    "print(f\"Num. classes: {num_classes}\")\n",
    "print(f\"Num. train samples: {len(train_dataset)}\")\n",
    "print(f\"Num. valid. samples: {len(val_dataset)}\")\n",
    "print(f\"Num. test samples: {len(test_dataset)}\")\n",
    "\n",
    "# def loader(path):\n",
    "#    print(path)\n",
    "#    return PIL.Image.open(path).convert(\"RGB\")\n",
    "\n",
    "# Instantiate data loaders\n",
    "loaders = {\"train\": DataLoader(dataset=train_dataset, batch_size=batch_size, shuffle=True,  num_workers=4, pin_memory=True),\n",
    "           \"val\":   DataLoader(dataset=val_dataset,   batch_size=batch_size, shuffle=False, num_workers=4, pin_memory=True),\n",
    "           \"test\":  DataLoader(dataset=test_dataset,  batch_size=batch_size, shuffle=False, num_workers=4, pin_memory=True)\n",
    "          }"
   ]
  },
  {
   "cell_type": "code",
   "execution_count": 6,
   "metadata": {},
   "outputs": [
    {
     "data": {
      "text/plain": [
       "torch.Size([3, 28, 28])"
      ]
     },
     "execution_count": 6,
     "metadata": {},
     "output_type": "execute_result"
    }
   ],
   "source": [
    "# Get image size (\"size\" is a property of PIL.Image)\n",
    "train_dataset[0][0].size()"
   ]
  },
  {
   "cell_type": "code",
   "execution_count": 7,
   "metadata": {},
   "outputs": [
    {
     "data": {
      "text/plain": [
       "tensor([[[ 0.1380, -1.4338, -0.7193,  ..., -0.2907, -0.6399, -0.9416],\n",
       "         [ 0.2174, -1.3703, -0.2748,  ..., -0.0525, -0.4971, -0.9734],\n",
       "         [ 0.0269, -1.2909,  0.1380,  ...,  0.2492, -0.1954, -0.7511],\n",
       "         ...,\n",
       "         [ 1.6781,  1.6939,  1.6939,  ..., -0.5447, -0.4335, -0.6082],\n",
       "         [ 1.6939,  1.6939,  1.6939,  ..., -0.5288, -0.2589, -0.5288],\n",
       "         [ 1.6939,  1.7098,  1.6939,  ..., -0.3065, -0.1001, -0.5288]],\n",
       "\n",
       "        [[ 0.1781, -1.4195, -0.6933,  ..., -0.2576, -0.6126, -0.9192],\n",
       "         [ 0.2588, -1.3550, -0.2414,  ..., -0.0155, -0.4674, -0.9515],\n",
       "         [ 0.0652, -1.2743,  0.1781,  ...,  0.2911, -0.1608, -0.7256],\n",
       "         ...,\n",
       "         [ 1.7435,  1.7597,  1.7597,  ..., -0.5158, -0.4028, -0.5803],\n",
       "         [ 1.7597,  1.7597,  1.7597,  ..., -0.4997, -0.2253, -0.4997],\n",
       "         [ 1.7597,  1.7758,  1.7597,  ..., -0.2737, -0.0639, -0.4997]],\n",
       "\n",
       "        [[ 0.3026, -1.1848, -0.5087,  ..., -0.1030, -0.4336, -0.7191],\n",
       "         [ 0.3778, -1.1247, -0.0880,  ...,  0.1223, -0.2984, -0.7491],\n",
       "         [ 0.1975, -1.0496,  0.3026,  ...,  0.4078, -0.0129, -0.5388],\n",
       "         ...,\n",
       "         [ 1.7601,  1.7751,  1.7751,  ..., -0.3434, -0.2383, -0.4035],\n",
       "         [ 1.7751,  1.7751,  1.7751,  ..., -0.3284, -0.0730, -0.3284],\n",
       "         [ 1.7751,  1.7901,  1.7751,  ..., -0.1181,  0.0773, -0.3284]]])"
      ]
     },
     "execution_count": 7,
     "metadata": {},
     "output_type": "execute_result"
    }
   ],
   "source": [
    "# Show an image of a given class\n",
    "train_dataset[train_dataset.targets.index(1)][0]"
   ]
  },
  {
   "cell_type": "markdown",
   "metadata": {},
   "source": [
    "### CNN model"
   ]
  },
  {
   "cell_type": "code",
   "execution_count": 8,
   "metadata": {},
   "outputs": [],
   "source": [
    "# Import\n",
    "import torch.nn as nn\n",
    "import torch.nn.functional as F\n",
    "import torch.optim as optim"
   ]
  },
  {
   "cell_type": "code",
   "execution_count": 9,
   "metadata": {},
   "outputs": [],
   "source": [
    "# Define class\n",
    "class CNN(nn.Module):\n",
    "    \n",
    "    # Constructor\n",
    "    def __init__(self):\n",
    "        # Call parent constructor\n",
    "        super().__init__();\n",
    "        # Create convolutional layers\n",
    "        self.conv_layers = nn.Sequential(\n",
    "            # Layer 1\n",
    "            nn.Conv2d(3, 64, kernel_size=3, padding=0, stride=1),\n",
    "            nn.ReLU(),\n",
    "            # Layer 2\n",
    "            nn.Conv2d(64, 128, kernel_size=3, padding=0, stride=1),\n",
    "            nn.ReLU(),\n",
    "            # Layer 3\n",
    "            nn.Conv2d(128, 128, kernel_size=3, padding=0, stride=1),\n",
    "            nn.ReLU(),\n",
    "            nn.AvgPool2d(kernel_size=2, stride=2),\n",
    "            # Layer 4\n",
    "            nn.Conv2d(128, 256, kernel_size=3, padding=0, stride=1),\n",
    "            nn.ReLU(),\n",
    "            nn.AvgPool2d(kernel_size=2, stride=2)\n",
    "        )\n",
    "        # Create fully-connected layers\n",
    "        self.fc_layers = nn.Sequential(\n",
    "            # FC layer\n",
    "            nn.Linear(4096, 1024),\n",
    "            nn.ReLU(),\n",
    "            # Classification layer\n",
    "            nn.Linear(1024, 2)\n",
    "        )\n",
    "\n",
    "    # Forward\n",
    "    def forward(self, x):\n",
    "        x = self.conv_layers(x)\n",
    "        x = x.view(x.size(0), -1)\n",
    "        x = self.fc_layers(x)\n",
    "        return x"
   ]
  },
  {
   "cell_type": "markdown",
   "metadata": {},
   "source": [
    "### Model training"
   ]
  },
  {
   "cell_type": "code",
   "execution_count": 10,
   "metadata": {},
   "outputs": [
    {
     "name": "stdout",
     "output_type": "stream",
     "text": [
      "CUDA is available? True\n",
      "cuda\n"
     ]
    }
   ],
   "source": [
    "# Select device\n",
    "print(f\"CUDA is available? {torch.cuda.is_available()}\")\n",
    "dev = torch.device(\"cuda\" if torch.cuda.is_available() else \"cpu\")\n",
    "print(dev)"
   ]
  },
  {
   "cell_type": "code",
   "execution_count": 11,
   "metadata": {},
   "outputs": [],
   "source": [
    "def train(epochs, dev, lr=0.001):\n",
    "    try:\n",
    "        # Create model\n",
    "        model = CNN()\n",
    "        model = model.to(dev)\n",
    "        print(model)\n",
    "        # Optimizer\n",
    "        optimizer = optim.SGD(model.parameters(), lr=lr)\n",
    "        # Initialize history\n",
    "        history_loss = {\"train\": [], \"val\": [], \"test\": []}\n",
    "        history_accuracy = {\"train\": [], \"val\": [], \"test\": []}\n",
    "        # Process each epoch\n",
    "        for epoch in range(epochs):\n",
    "            # Initialize epoch variables\n",
    "            sum_loss = {\"train\": 0, \"val\": 0, \"test\": 0}\n",
    "            sum_accuracy = {\"train\": 0, \"val\": 0, \"test\": 0}\n",
    "            # Process each split\n",
    "            for split in [\"train\", \"val\", \"test\"]:\n",
    "                # Process each batch\n",
    "                for i,(input, labels) in enumerate(loaders[split]):\n",
    "                    # Move to CUDA\n",
    "                    input = input.to(dev)\n",
    "                    labels = labels.to(dev)\n",
    "                    # Reset gradients\n",
    "                    optimizer.zero_grad()\n",
    "                    # Compute output\n",
    "                    pred = model(input)\n",
    "                    loss = F.cross_entropy(pred, labels)\n",
    "                    # Update loss\n",
    "                    sum_loss[split] += loss.item()\n",
    "                    # Check parameter update\n",
    "                    if split == \"train\":\n",
    "                        # Compute gradients\n",
    "                        loss.backward()\n",
    "                        # Optimize\n",
    "                        optimizer.step()\n",
    "                    # Compute accuracy\n",
    "                    _,pred_labels = pred.max(1)\n",
    "                    batch_accuracy = (pred_labels == labels).sum().item()/input.size(0)\n",
    "                    # Update accuracy\n",
    "                    sum_accuracy[split] += batch_accuracy\n",
    "                    \n",
    "                    # print batch info\n",
    "                    #if(i%10 == 0):\n",
    "                    #    print(f\"Batch number: {i} | Loss: {loss}\")\n",
    "                    \n",
    "            # Compute epoch loss/accuracy\n",
    "            epoch_loss = {split: sum_loss[split]/len(loaders[split]) for split in [\"train\", \"val\", \"test\"]}\n",
    "            epoch_accuracy = {split: sum_accuracy[split]/len(loaders[split]) for split in [\"train\", \"val\", \"test\"]}\n",
    "            # Update history\n",
    "            for split in [\"train\", \"val\", \"test\"]:\n",
    "                history_loss[split].append(epoch_loss[split])\n",
    "                history_accuracy[split].append(epoch_accuracy[split])\n",
    "            # Print info\n",
    "            print(f\"Epoch {epoch+1}:\",\n",
    "                  f\"TrL={epoch_loss['train']:.4f},\",\n",
    "                  f\"TrA={epoch_accuracy['train']:.4f},\",\n",
    "                  f\"VL={epoch_loss['val']:.4f},\",\n",
    "                  f\"VA={epoch_accuracy['val']:.4f},\",\n",
    "                  f\"TeL={epoch_loss['test']:.4f},\",\n",
    "                  f\"TeA={epoch_accuracy['test']:.4f},\")\n",
    "    except KeyboardInterrupt:\n",
    "        print(\"Interrupted\")\n",
    "    finally:\n",
    "        # Save the model\n",
    "        torch.save(model, \"./face_detection_model\")\n",
    "                  \n",
    "        # Plot loss\n",
    "        plt.title(\"Loss\")\n",
    "        for split in [\"train\", \"val\", \"test\"]:\n",
    "            plt.plot(history_loss[split], label=split)\n",
    "        plt.legend()\n",
    "        plt.show()\n",
    "        # Plot accuracy\n",
    "        plt.title(\"Accuracy\")\n",
    "        for split in [\"train\", \"val\", \"test\"]:\n",
    "            plt.plot(history_accuracy[split], label=split)\n",
    "        plt.legend()\n",
    "        plt.show()"
   ]
  },
  {
   "cell_type": "code",
   "execution_count": 12,
   "metadata": {
    "scrolled": false
   },
   "outputs": [
    {
     "name": "stdout",
     "output_type": "stream",
     "text": [
      "CNN(\n",
      "  (conv_layers): Sequential(\n",
      "    (0): Conv2d(3, 64, kernel_size=(3, 3), stride=(1, 1))\n",
      "    (1): ReLU()\n",
      "    (2): Conv2d(64, 128, kernel_size=(3, 3), stride=(1, 1))\n",
      "    (3): ReLU()\n",
      "    (4): Conv2d(128, 128, kernel_size=(3, 3), stride=(1, 1))\n",
      "    (5): ReLU()\n",
      "    (6): AvgPool2d(kernel_size=2, stride=2, padding=0)\n",
      "    (7): Conv2d(128, 256, kernel_size=(3, 3), stride=(1, 1))\n",
      "    (8): ReLU()\n",
      "    (9): AvgPool2d(kernel_size=2, stride=2, padding=0)\n",
      "  )\n",
      "  (fc_layers): Sequential(\n",
      "    (0): Linear(in_features=4096, out_features=1024, bias=True)\n",
      "    (1): ReLU()\n",
      "    (2): Linear(in_features=1024, out_features=2, bias=True)\n",
      "  )\n",
      ")\n",
      "Epoch 1: TrL=0.6085, TrA=0.6782, VL=0.5792, VA=0.7000, TeL=0.5811, TeA=0.6992,\n",
      "Epoch 2: TrL=0.5801, TrA=0.7002, VL=0.5602, VA=0.7158, TeL=0.5622, TeA=0.7164,\n",
      "Epoch 3: TrL=0.5637, TrA=0.7138, VL=0.5345, VA=0.7364, TeL=0.5360, TeA=0.7356,\n",
      "Epoch 4: TrL=0.5407, TrA=0.7288, VL=0.6848, VA=0.6252, TeL=0.6882, TeA=0.6246,\n",
      "Epoch 5: TrL=0.5178, TrA=0.7434, VL=0.5003, VA=0.7581, TeL=0.5032, TeA=0.7559,\n",
      "Epoch 6: TrL=0.4977, TrA=0.7561, VL=0.4574, VA=0.7807, TeL=0.4598, TeA=0.7786,\n",
      "Epoch 7: TrL=0.4792, TrA=0.7683, VL=0.4988, VA=0.7570, TeL=0.5010, TeA=0.7564,\n",
      "Epoch 8: TrL=0.4625, TrA=0.7774, VL=0.4978, VA=0.7568, TeL=0.4993, TeA=0.7563,\n",
      "Epoch 9: TrL=0.4483, TrA=0.7863, VL=0.4257, VA=0.7987, TeL=0.4278, TeA=0.7982,\n",
      "Epoch 10: TrL=0.4367, TrA=0.7928, VL=0.4036, VA=0.8107, TeL=0.4062, TeA=0.8095,\n",
      "Epoch 11: TrL=0.4246, TrA=0.7989, VL=0.4032, VA=0.8124, TeL=0.4052, TeA=0.8112,\n",
      "Epoch 12: TrL=0.4152, TrA=0.8052, VL=0.4978, VA=0.7505, TeL=0.4994, TeA=0.7495,\n",
      "Epoch 13: TrL=0.4072, TrA=0.8091, VL=0.3801, VA=0.8248, TeL=0.3825, TeA=0.8237,\n",
      "Epoch 14: TrL=0.3998, TrA=0.8132, VL=0.3727, VA=0.8285, TeL=0.3748, TeA=0.8271,\n",
      "Epoch 15: TrL=0.3918, TrA=0.8183, VL=0.3662, VA=0.8308, TeL=0.3678, TeA=0.8305,\n",
      "Epoch 16: TrL=0.3869, TrA=0.8204, VL=0.4285, VA=0.7967, TeL=0.4310, TeA=0.7950,\n",
      "Epoch 17: TrL=0.3829, TrA=0.8230, VL=0.3541, VA=0.8400, TeL=0.3563, TeA=0.8388,\n",
      "Epoch 18: TrL=0.3767, TrA=0.8260, VL=0.4112, VA=0.8024, TeL=0.4138, TeA=0.8020,\n",
      "Epoch 19: TrL=0.3714, TrA=0.8287, VL=0.3426, VA=0.8446, TeL=0.3452, TeA=0.8427,\n",
      "Epoch 20: TrL=0.3664, TrA=0.8315, VL=0.3730, VA=0.8273, TeL=0.3766, TeA=0.8236,\n",
      "Epoch 21: TrL=0.3608, TrA=0.8351, VL=0.3403, VA=0.8473, TeL=0.3432, TeA=0.8450,\n",
      "Epoch 22: TrL=0.3563, TrA=0.8368, VL=0.3621, VA=0.8340, TeL=0.3647, TeA=0.8308,\n",
      "Epoch 23: TrL=0.3523, TrA=0.8384, VL=0.3444, VA=0.8432, TeL=0.3472, TeA=0.8414,\n",
      "Epoch 24: TrL=0.3474, TrA=0.8417, VL=0.5179, VA=0.7630, TeL=0.5198, TeA=0.7620,\n",
      "Epoch 25: TrL=0.3435, TrA=0.8428, VL=0.4050, VA=0.8069, TeL=0.4091, TeA=0.8045,\n",
      "Epoch 26: TrL=0.3397, TrA=0.8463, VL=0.3361, VA=0.8474, TeL=0.3388, TeA=0.8467,\n",
      "Epoch 27: TrL=0.3376, TrA=0.8467, VL=0.3464, VA=0.8427, TeL=0.3496, TeA=0.8411,\n",
      "Epoch 28: TrL=0.3333, TrA=0.8493, VL=0.3200, VA=0.8596, TeL=0.3224, TeA=0.8573,\n",
      "Epoch 29: TrL=0.3310, TrA=0.8500, VL=0.3104, VA=0.8624, TeL=0.3134, TeA=0.8602,\n",
      "Epoch 30: TrL=0.3273, TrA=0.8515, VL=0.6035, VA=0.7192, TeL=0.6071, TeA=0.7194,\n",
      "Epoch 31: TrL=0.3244, TrA=0.8531, VL=0.3452, VA=0.8407, TeL=0.3473, TeA=0.8398,\n",
      "Epoch 32: TrL=0.3219, TrA=0.8547, VL=0.3433, VA=0.8448, TeL=0.3450, TeA=0.8432,\n",
      "Epoch 33: TrL=0.3188, TrA=0.8563, VL=0.3362, VA=0.8465, TeL=0.3386, TeA=0.8451,\n",
      "Epoch 34: TrL=0.3163, TrA=0.8577, VL=0.3409, VA=0.8439, TeL=0.3433, TeA=0.8419,\n",
      "Epoch 35: TrL=0.3128, TrA=0.8601, VL=0.2954, VA=0.8692, TeL=0.2984, TeA=0.8665,\n",
      "Epoch 36: TrL=0.3093, TrA=0.8619, VL=0.2882, VA=0.8736, TeL=0.2912, TeA=0.8709,\n",
      "Epoch 37: TrL=0.3084, TrA=0.8613, VL=0.2874, VA=0.8724, TeL=0.2894, TeA=0.8704,\n",
      "Epoch 38: TrL=0.3065, TrA=0.8632, VL=0.2876, VA=0.8728, TeL=0.2891, TeA=0.8709,\n",
      "Epoch 39: TrL=0.3025, TrA=0.8653, VL=0.2811, VA=0.8769, TeL=0.2838, TeA=0.8741,\n",
      "Epoch 40: TrL=0.3017, TrA=0.8657, VL=0.2904, VA=0.8715, TeL=0.2934, TeA=0.8693,\n",
      "Epoch 41: TrL=0.2995, TrA=0.8667, VL=0.3039, VA=0.8663, TeL=0.3072, TeA=0.8646,\n",
      "Epoch 42: TrL=0.2961, TrA=0.8677, VL=0.3076, VA=0.8635, TeL=0.3113, TeA=0.8615,\n",
      "Epoch 43: TrL=0.2950, TrA=0.8679, VL=0.2756, VA=0.8799, TeL=0.2776, TeA=0.8779,\n",
      "Epoch 44: TrL=0.2911, TrA=0.8709, VL=0.2801, VA=0.8778, TeL=0.2828, TeA=0.8759,\n",
      "Epoch 45: TrL=0.2909, TrA=0.8712, VL=0.2693, VA=0.8811, TeL=0.2716, TeA=0.8789,\n",
      "Epoch 46: TrL=0.2878, TrA=0.8717, VL=0.2703, VA=0.8813, TeL=0.2722, TeA=0.8795,\n",
      "Epoch 47: TrL=0.2857, TrA=0.8739, VL=0.2997, VA=0.8640, TeL=0.3017, TeA=0.8627,\n",
      "Epoch 48: TrL=0.2838, TrA=0.8749, VL=0.2828, VA=0.8726, TeL=0.2847, TeA=0.8707,\n",
      "Epoch 49: TrL=0.2820, TrA=0.8762, VL=0.2772, VA=0.8774, TeL=0.2788, TeA=0.8756,\n",
      "Epoch 50: TrL=0.2807, TrA=0.8764, VL=0.2787, VA=0.8756, TeL=0.2807, TeA=0.8742,\n",
      "Epoch 51: TrL=0.2782, TrA=0.8774, VL=0.3457, VA=0.8501, TeL=0.3499, TeA=0.8467,\n",
      "Epoch 52: TrL=0.2773, TrA=0.8778, VL=0.2623, VA=0.8863, TeL=0.2647, TeA=0.8850,\n",
      "Epoch 53: TrL=0.2754, TrA=0.8791, VL=0.2767, VA=0.8790, TeL=0.2794, TeA=0.8773,\n",
      "Epoch 54: TrL=0.2730, TrA=0.8805, VL=0.2539, VA=0.8897, TeL=0.2555, TeA=0.8880,\n",
      "Epoch 55: TrL=0.2723, TrA=0.8807, VL=0.2654, VA=0.8843, TeL=0.2683, TeA=0.8826,\n",
      "Epoch 56: TrL=0.2700, TrA=0.8820, VL=0.2498, VA=0.8910, TeL=0.2524, TeA=0.8894,\n",
      "Epoch 57: TrL=0.2705, TrA=0.8808, VL=0.2482, VA=0.8916, TeL=0.2505, TeA=0.8908,\n",
      "Epoch 58: TrL=0.2671, TrA=0.8829, VL=0.2615, VA=0.8862, TeL=0.2638, TeA=0.8848,\n",
      "Epoch 59: TrL=0.2662, TrA=0.8829, VL=0.3270, VA=0.8516, TeL=0.3286, TeA=0.8507,\n",
      "Epoch 60: TrL=0.2658, TrA=0.8836, VL=0.2522, VA=0.8900, TeL=0.2541, TeA=0.8876,\n",
      "Epoch 61: TrL=0.2645, TrA=0.8843, VL=0.2427, VA=0.8948, TeL=0.2454, TeA=0.8924,\n",
      "Epoch 62: TrL=0.2634, TrA=0.8846, VL=0.3005, VA=0.8634, TeL=0.3021, TeA=0.8626,\n",
      "Epoch 63: TrL=0.2607, TrA=0.8869, VL=0.2626, VA=0.8863, TeL=0.2665, TeA=0.8837,\n",
      "Epoch 64: TrL=0.2609, TrA=0.8868, VL=0.2710, VA=0.8822, TeL=0.2742, TeA=0.8812,\n",
      "Epoch 65: TrL=0.2591, TrA=0.8869, VL=0.2388, VA=0.8971, TeL=0.2410, TeA=0.8946,\n",
      "Epoch 66: TrL=0.2576, TrA=0.8874, VL=0.2520, VA=0.8889, TeL=0.2551, TeA=0.8870,\n",
      "Epoch 67: TrL=0.2569, TrA=0.8873, VL=0.2827, VA=0.8735, TeL=0.2847, TeA=0.8722,\n",
      "Epoch 68: TrL=0.2551, TrA=0.8888, VL=0.2636, VA=0.8849, TeL=0.2664, TeA=0.8825,\n",
      "Epoch 69: TrL=0.2540, TrA=0.8887, VL=0.2372, VA=0.8987, TeL=0.2393, TeA=0.8956,\n",
      "Epoch 70: TrL=0.2533, TrA=0.8901, VL=0.2853, VA=0.8733, TeL=0.2890, TeA=0.8721,\n",
      "Epoch 71: TrL=0.2536, TrA=0.8886, VL=0.2404, VA=0.8947, TeL=0.2425, TeA=0.8934,\n",
      "Epoch 72: TrL=0.2511, TrA=0.8904, VL=0.2644, VA=0.8817, TeL=0.2668, TeA=0.8813,\n",
      "Epoch 73: TrL=0.2507, TrA=0.8906, VL=0.2293, VA=0.9022, TeL=0.2324, TeA=0.8993,\n",
      "Epoch 74: TrL=0.2494, TrA=0.8919, VL=0.2733, VA=0.8785, TeL=0.2775, TeA=0.8765,\n",
      "Epoch 75: TrL=0.2491, TrA=0.8920, VL=0.2265, VA=0.9032, TeL=0.2284, TeA=0.9016,\n",
      "Epoch 76: TrL=0.2472, TrA=0.8932, VL=0.2481, VA=0.8918, TeL=0.2505, TeA=0.8908,\n",
      "Epoch 77: TrL=0.2465, TrA=0.8926, VL=0.3221, VA=0.8554, TeL=0.3246, TeA=0.8544,\n",
      "Epoch 78: TrL=0.2440, TrA=0.8938, VL=0.2869, VA=0.8761, TeL=0.2911, TeA=0.8737,\n",
      "Epoch 79: TrL=0.2434, TrA=0.8949, VL=0.2618, VA=0.8846, TeL=0.2654, TeA=0.8828,\n",
      "Epoch 80: TrL=0.2440, TrA=0.8945, VL=0.2250, VA=0.9036, TeL=0.2274, TeA=0.9013,\n",
      "Epoch 81: TrL=0.2442, TrA=0.8944, VL=0.2567, VA=0.8868, TeL=0.2581, TeA=0.8857,\n",
      "Epoch 82: TrL=0.2412, TrA=0.8958, VL=0.2207, VA=0.9061, TeL=0.2233, TeA=0.9040,\n",
      "Epoch 83: TrL=0.2420, TrA=0.8949, VL=0.2306, VA=0.9012, TeL=0.2326, TeA=0.8991,\n",
      "Epoch 84: TrL=0.2403, TrA=0.8962, VL=0.2332, VA=0.8986, TeL=0.2353, TeA=0.8965,\n",
      "Epoch 85: TrL=0.2394, TrA=0.8959, VL=0.2345, VA=0.8996, TeL=0.2383, TeA=0.8978,\n",
      "Epoch 86: TrL=0.2384, TrA=0.8965, VL=0.3034, VA=0.8645, TeL=0.3056, TeA=0.8640,\n",
      "Epoch 87: TrL=0.2358, TrA=0.8979, VL=0.2277, VA=0.9016, TeL=0.2299, TeA=0.9001,\n",
      "Epoch 88: TrL=0.2365, TrA=0.8997, VL=0.2124, VA=0.9099, TeL=0.2153, TeA=0.9079,\n",
      "Epoch 89: TrL=0.2358, TrA=0.8984, VL=0.2124, VA=0.9099, TeL=0.2153, TeA=0.9082,\n",
      "Epoch 90: TrL=0.2347, TrA=0.8989, VL=0.2845, VA=0.8729, TeL=0.2864, TeA=0.8721,\n",
      "Epoch 91: TrL=0.2339, TrA=0.8991, VL=0.2268, VA=0.9024, TeL=0.2304, TeA=0.9017,\n",
      "Epoch 92: TrL=0.2339, TrA=0.8990, VL=0.2740, VA=0.8765, TeL=0.2769, TeA=0.8744,\n",
      "Epoch 93: TrL=0.2320, TrA=0.9007, VL=0.2198, VA=0.9066, TeL=0.2228, TeA=0.9041,\n",
      "Epoch 94: TrL=0.2315, TrA=0.8995, VL=0.2829, VA=0.8722, TeL=0.2848, TeA=0.8715,\n",
      "Epoch 95: TrL=0.2315, TrA=0.8997, VL=0.2165, VA=0.9077, TeL=0.2193, TeA=0.9057,\n"
     ]
    },
    {
     "name": "stdout",
     "output_type": "stream",
     "text": [
      "Epoch 96: TrL=0.2308, TrA=0.8998, VL=0.2146, VA=0.9087, TeL=0.2172, TeA=0.9065,\n",
      "Epoch 97: TrL=0.2287, TrA=0.9018, VL=0.2238, VA=0.9027, TeL=0.2268, TeA=0.9016,\n",
      "Epoch 98: TrL=0.2282, TrA=0.9016, VL=0.2137, VA=0.9087, TeL=0.2159, TeA=0.9073,\n",
      "Epoch 99: TrL=0.2283, TrA=0.9028, VL=0.3564, VA=0.8414, TeL=0.3628, TeA=0.8390,\n",
      "Epoch 100: TrL=0.2269, TrA=0.9034, VL=0.2589, VA=0.8842, TeL=0.2605, TeA=0.8835,\n"
     ]
    },
    {
     "name": "stderr",
     "output_type": "stream",
     "text": [
      "/home/alessandro/.local/lib/python3.6/site-packages/torch/serialization.py:256: UserWarning: Couldn't retrieve source code for container of type CNN. It won't be checked for correctness upon loading.\n",
      "  \"type \" + obj.__name__ + \". It won't be checked \"\n"
     ]
    },
    {
     "data": {
      "image/png": "[encoded data removed]",
      "text/plain": [
       "<Figure size 432x288 with 1 Axes>"
      ]
     },
     "metadata": {
      "needs_background": "light"
     },
     "output_type": "display_data"
    },
    {
     "data": {
      "image/png": "[encoded data removed]",
      "text/plain": [
       "<Figure size 432x288 with 1 Axes>"
      ]
     },
     "metadata": {
      "needs_background": "light"
     },
     "output_type": "display_data"
    }
   ],
   "source": [
    "train(100, dev, 0.01)"
   ]
  },
  {
   "cell_type": "code",
   "execution_count": 36,
   "metadata": {},
   "outputs": [
    {
     "data": {
      "text/plain": [
       "CNN(\n",
       "  (conv_layers): Sequential(\n",
       "    (0): Conv2d(3, 64, kernel_size=(3, 3), stride=(1, 1))\n",
       "    (1): ReLU()\n",
       "    (2): Conv2d(64, 128, kernel_size=(3, 3), stride=(1, 1))\n",
       "    (3): ReLU()\n",
       "    (4): Conv2d(128, 128, kernel_size=(3, 3), stride=(1, 1))\n",
       "    (5): ReLU()\n",
       "    (6): AvgPool2d(kernel_size=2, stride=2, padding=0)\n",
       "    (7): Conv2d(128, 256, kernel_size=(3, 3), stride=(1, 1))\n",
       "    (8): ReLU()\n",
       "    (9): AvgPool2d(kernel_size=2, stride=2, padding=0)\n",
       "  )\n",
       "  (fc_layers): Sequential(\n",
       "    (0): Linear(in_features=4096, out_features=1024, bias=True)\n",
       "    (1): ReLU()\n",
       "    (2): Linear(in_features=1024, out_features=2, bias=True)\n",
       "  )\n",
       ")"
      ]
     },
     "execution_count": 36,
     "metadata": {},
     "output_type": "execute_result"
    }
   ],
   "source": [
    "model = torch.load(\"./face_detection_model\")\n",
    "model.eval()"
   ]
  },
  {
   "cell_type": "code",
   "execution_count": 37,
   "metadata": {},
   "outputs": [],
   "source": [
    "# Get random image\n",
    "base_path = \"../datasets/UCF-101-to-image/Utrain\"\n",
    "classification_path = \"../datasets/UCF-101-to-image-classified/Utrain\"\n",
    "\n",
    "image_paths = glob(os.path.join(base_path, \"*\"))\n",
    "for path in image_paths:\n",
    "    # Load image\n",
    "    img = Image.open(path).convert(\"RGB\")\n",
    "    # Show image\n",
    "    plt.imshow(img)\n",
    "    plt.axis('off')\n",
    "\n",
    "    # Transform image\n",
    "    img = test_transform(img)\n",
    "\n",
    "    # View as a batch\n",
    "    img.unsqueeze_(0)\n",
    "    # Copy to device\n",
    "    img = img.to(dev)\n",
    "    with torch.no_grad():\n",
    "        # Model forward\n",
    "        pred = model(img)\n",
    "    # Get prediction\n",
    "    _,pred = pred.max(1)\n",
    "    pred = pred.item()\n",
    "    print(f\"Predicted: {class_names[pred]}\")\n",
    "    if(pred == 0):\n",
    "        #copia in black\n",
    "        shutil.copy(path, classification_path + \"/black\")\n",
    "    else:\n",
    "        #copia in white\n",
    "        shutil.copy(path, classification_path + \"/white\")"
   ]
  },
  {
   "cell_type": "code",
   "execution_count": null,
   "metadata": {},
   "outputs": [],
   "source": []
  },
  {
   "cell_type": "code",
   "execution_count": null,
   "metadata": {},
   "outputs": [],
   "source": []
  }
 ],
 "metadata": {
  "author": "ML1819",
  "kernelspec": {
   "display_name": "Python 3",
   "language": "python",
   "name": "python3"
  },
  "language_info": {
   "codemirror_mode": {
    "name": "ipython",
    "version": 3
   },
   "file_extension": ".py",
   "mimetype": "text/x-python",
   "name": "python",
   "nbconvert_exporter": "python",
   "pygments_lexer": "ipython3",
   "version": "3.7.3"
  }
 },
 "nbformat": 4,
 "nbformat_minor": 2
}
