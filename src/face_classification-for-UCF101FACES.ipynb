{
 "cells": [
  {
   "cell_type": "markdown",
   "metadata": {},
   "source": [
    "## Face classification"
   ]
  },
  {
   "cell_type": "code",
   "execution_count": 1,
   "metadata": {},
   "outputs": [],
   "source": [
    "import torch\n",
    "from matplotlib import pyplot as plt\n",
    "from torchvision import datasets\n",
    "from torchvision.datasets import ImageFolder\n",
    "from torch.utils.data import DataLoader\n",
    "import torchvision.transforms.functional as TF\n",
    "import torchvision.transforms as T\n",
    "import os\n",
    "import argparse\n",
    "import numpy as np\n",
    "import shutil\n",
    "from glob import glob\n",
    "from random import shuffle\n",
    "from PIL import Image\n"
   ]
  },
  {
   "cell_type": "code",
   "execution_count": 2,
   "metadata": {},
   "outputs": [],
   "source": [
    "# Class map\n",
    "class_names = {0: 'Black', 1: 'White'}\n",
    "\n",
    "# Split the dataset into train, test and val folders\n",
    "args = {\"source\": \"../datasets/black_white\", \"dest\": \"../datasets/black_white_splitted\", \"val_size\": 0.1, \"train_size\": 0.7, \"test_size\": 0.2}\n",
    "\n",
    "# Crea le cartelle di destinazione (se non esistono)\n",
    "if not os.path.exists(args[\"dest\"]):\n",
    "    os.makedirs(args[\"dest\"])\n",
    "\n",
    "dest_train = os.path.join(args[\"dest\"], \"train\")\n",
    "if not os.path.exists(dest_train):\n",
    "    os.makedirs(dest_train)\n",
    "\n",
    "dest_test = os.path.join(args[\"dest\"], \"test\")\n",
    "if not os.path.exists(dest_test):\n",
    "    os.makedirs(dest_test)\n",
    "\n",
    "dest_val = os.path.join(args[\"dest\"], \"val\")\n",
    "if not os.path.exists(dest_val):\n",
    "    os.makedirs(dest_val)\n",
    "\n",
    "class_dirs = os.listdir(args[\"source\"])\n",
    "for class_dir in class_dirs:\n",
    "    class_dir_path = os.path.join(args[\"source\"], class_dir)\n",
    "    num_elem = len(os.listdir(class_dir_path))\n",
    "    total_indices = np.arange(num_elem)\n",
    "    val_indices = np.random.choice(total_indices,\n",
    "                                   size=int(num_elem*args[\"val_size\"]),\n",
    "                                   replace=False)\n",
    "    total_indices = np.delete(total_indices, val_indices)\n",
    "    test_indices = np.random.choice(total_indices,\n",
    "                                   size=int(num_elem*args[\"test_size\"]),\n",
    "                                   replace=False)\n",
    "\n",
    "    if not os.path.exists(os.path.join(dest_train, class_dir)):\n",
    "        os.mkdir(os.path.join(dest_train, class_dir))\n",
    "    if not os.path.exists(os.path.join(dest_test, class_dir)):\n",
    "        os.mkdir(os.path.join(dest_test, class_dir))\n",
    "    if not os.path.exists(os.path.join(dest_val, class_dir)):\n",
    "        os.mkdir(os.path.join(dest_val, class_dir))\n",
    "        \n",
    "    for index, filename in enumerate(os.listdir(class_dir_path)):\n",
    "            if index in val_indices:\n",
    "                shutil.copy(os.path.join(class_dir_path, filename), os.path.join(dest_val, class_dir))\n",
    "            elif index in test_indices:\n",
    "                shutil.copy(os.path.join(class_dir_path, filename), os.path.join(dest_test, class_dir))\n",
    "            else:\n",
    "                shutil.copy(os.path.join(class_dir_path, filename), os.path.join(dest_train, class_dir))"
   ]
  },
  {
   "cell_type": "markdown",
   "metadata": {},
   "source": [
    "### Image dataset transforms\n",
    "The `torchvision.transforms` module includes additional classes specific for image pre-processing. Some of them are:\n",
    "\n",
    "- `Resize`: resizes an image;\n",
    "- `RandomCrop`: randomly crops an image (data augmentation during training);\n",
    "- `RandomHorizontalFlip`: randomly flips an image (data augmentation during training);\n",
    "- `CenterCrop`: crops the central area of an image (used in testing, as counterpart to `RandomCrop`);\n",
    "- `Normalize`: performs standardization, given per-channel means and standard deviations.\n",
    "\n",
    "Usually, to do data augmentation, you crop an image to an area which is slightly smaller than the full size."
   ]
  },
  {
   "cell_type": "code",
   "execution_count": 3,
   "metadata": {},
   "outputs": [],
   "source": [
    "# Params\n",
    "resize = T.Resize(32)  \n",
    "random_crop = T.RandomCrop(28)             # train\n",
    "random_hor_flip = T.RandomHorizontalFlip()  # train\n",
    "center_crop = T.CenterCrop(28)             # test and val\n",
    "to_tensor = T.ToTensor()\n",
    "normalize = T.Normalize(mean=(0.4914, 0.4822, 0.4465), std=(0.247, 0.243, 0.261))\n",
    "\n",
    "# Compose transforms\n",
    "train_transform = T.Compose([resize, random_crop, random_hor_flip, to_tensor, normalize])\n",
    "test_transform = T.Compose([resize, center_crop, to_tensor, normalize])\n",
    "val_transform = T.Compose([resize, center_crop, to_tensor, normalize])"
   ]
  },
  {
   "cell_type": "code",
   "execution_count": 4,
   "metadata": {
    "scrolled": true
   },
   "outputs": [
    {
     "name": "stdout",
     "output_type": "stream",
     "text": [
      "Num. classes: 2\n",
      "Num. train samples: 100000\n",
      "Num. valid. samples: 68611\n",
      "Num. test samples: 91441\n"
     ]
    }
   ],
   "source": [
    "# Instantiate datasets\n",
    "root_dir = \"../datasets/\"\n",
    "train_dataset = ImageFolder(os.path.join(root_dir, \"black_white_splitted\", \"train\"), transform=train_transform) \n",
    "val_dataset = ImageFolder(os.path.join(root_dir, \"black_white_splitted\", \"val\"), transform=val_transform)\n",
    "test_dataset = ImageFolder(os.path.join(root_dir, \"black_white_splitted\", \"test\"), transform=test_transform) \n",
    "\n",
    "# Get number of classes (we'll need it in the model)\n",
    "num_classes = len(train_dataset.classes)\n",
    "batch_size = 64\n",
    "\n",
    "# Print dataset statistics\n",
    "print(f\"Num. classes: {num_classes}\")\n",
    "print(f\"Num. train samples: {len(train_dataset)}\")\n",
    "print(f\"Num. valid. samples: {len(val_dataset)}\")\n",
    "print(f\"Num. test samples: {len(test_dataset)}\")\n",
    "\n",
    "# def loader(path):\n",
    "#    print(path)\n",
    "#    return PIL.Image.open(path).convert(\"RGB\")\n",
    "\n",
    "# Instantiate data loaders\n",
    "loaders = {\"train\": DataLoader(dataset=train_dataset, batch_size=batch_size, shuffle=True,  num_workers=4, pin_memory=True),\n",
    "           \"val\":   DataLoader(dataset=val_dataset,   batch_size=batch_size, shuffle=False, num_workers=4, pin_memory=True),\n",
    "           \"test\":  DataLoader(dataset=test_dataset,  batch_size=batch_size, shuffle=False, num_workers=4, pin_memory=True)\n",
    "          }"
   ]
  },
  {
   "cell_type": "code",
   "execution_count": 5,
   "metadata": {},
   "outputs": [
    {
     "data": {
      "text/plain": [
       "torch.Size([3, 28, 28])"
      ]
     },
     "execution_count": 5,
     "metadata": {},
     "output_type": "execute_result"
    }
   ],
   "source": [
    "# Get image size (\"size\" is a property of PIL.Image)\n",
    "train_dataset[0][0].size()"
   ]
  },
  {
   "cell_type": "code",
   "execution_count": 6,
   "metadata": {},
   "outputs": [
    {
     "data": {
      "text/plain": [
       "tensor([[[-1.1004, -1.0369, -0.8305,  ..., -0.7511,  0.6461,  1.3923],\n",
       "         [-1.3385, -1.1004, -0.7193,  ..., -1.1321,  0.3285,  1.1065],\n",
       "         [-1.1639, -0.8463, -0.4971,  ..., -1.2274, -0.6082,  0.6620],\n",
       "         ...,\n",
       "         [-0.6241, -0.3383, -0.1636,  ...,  1.5034,  1.4717,  1.4399],\n",
       "         [-0.7670, -0.5447, -0.4177,  ...,  1.6304,  1.5669,  1.5034],\n",
       "         [-0.7511, -0.5764, -0.5288,  ...,  1.6622,  1.6622,  1.6146]],\n",
       "\n",
       "        [[-1.0806, -1.0161, -0.8063,  ..., -0.7256,  0.6946,  1.4531],\n",
       "         [-1.3227, -1.0806, -0.6933,  ..., -1.1129,  0.3718,  1.1626],\n",
       "         [-1.1452, -0.8224, -0.4674,  ..., -1.2097, -0.5803,  0.7107],\n",
       "         ...,\n",
       "         [-0.5965, -0.3060, -0.1285,  ...,  1.5660,  1.5338,  1.5015],\n",
       "         [-0.7417, -0.5158, -0.3867,  ...,  1.6951,  1.6306,  1.5660],\n",
       "         [-0.7256, -0.5481, -0.4997,  ...,  1.7274,  1.7274,  1.6790]],\n",
       "\n",
       "        [[-0.8693, -0.8092, -0.6139,  ..., -0.5388,  0.7834,  1.4896],\n",
       "         [-1.0947, -0.8693, -0.5087,  ..., -0.8994,  0.4829,  1.2192],\n",
       "         [-0.9294, -0.6289, -0.2984,  ..., -0.9895, -0.4035,  0.7985],\n",
       "         ...,\n",
       "         [-0.4186, -0.1481,  0.0172,  ...,  1.5948,  1.5648,  1.5347],\n",
       "         [-0.5538, -0.3434, -0.2232,  ...,  1.7150,  1.6549,  1.5948],\n",
       "         [-0.5388, -0.3735, -0.3284,  ...,  1.7451,  1.7451,  1.7000]]])"
      ]
     },
     "execution_count": 6,
     "metadata": {},
     "output_type": "execute_result"
    }
   ],
   "source": [
    "# Show an image of a given class\n",
    "train_dataset[train_dataset.targets.index(1)][0]"
   ]
  },
  {
   "cell_type": "markdown",
   "metadata": {},
   "source": [
    "### CNN model"
   ]
  },
  {
   "cell_type": "code",
   "execution_count": 7,
   "metadata": {},
   "outputs": [],
   "source": [
    "# Import\n",
    "import torch.nn as nn\n",
    "import torch.nn.functional as F\n",
    "import torch.optim as optim"
   ]
  },
  {
   "cell_type": "code",
   "execution_count": 8,
   "metadata": {},
   "outputs": [],
   "source": [
    "# Define class\n",
    "class CNN(nn.Module):\n",
    "    \n",
    "    # Constructor\n",
    "    def __init__(self):\n",
    "        # Call parent constructor\n",
    "        super().__init__();\n",
    "        # Create convolutional layers\n",
    "        self.conv_layers = nn.Sequential(\n",
    "            # Layer 1\n",
    "            nn.Conv2d(3, 64, kernel_size=3, padding=0, stride=1),\n",
    "            nn.ReLU(),\n",
    "            # Layer 2\n",
    "            nn.Conv2d(64, 128, kernel_size=3, padding=0, stride=1),\n",
    "            nn.ReLU(),\n",
    "            # Layer 3\n",
    "            nn.Conv2d(128, 128, kernel_size=3, padding=0, stride=1),\n",
    "            nn.ReLU(),\n",
    "            nn.AvgPool2d(kernel_size=2, stride=2),\n",
    "            # Layer 4\n",
    "            nn.Conv2d(128, 256, kernel_size=3, padding=0, stride=1),\n",
    "            nn.ReLU(),\n",
    "            nn.AvgPool2d(kernel_size=2, stride=2)\n",
    "        )\n",
    "        # Create fully-connected layers\n",
    "        self.fc_layers = nn.Sequential(\n",
    "            # FC layer\n",
    "            nn.Linear(4096, 1024),\n",
    "            nn.ReLU(),\n",
    "            # Classification layer\n",
    "            nn.Linear(1024, 2)\n",
    "        )\n",
    "\n",
    "    # Forward\n",
    "    def forward(self, x):\n",
    "        x = self.conv_layers(x)\n",
    "        x = x.view(x.size(0), -1)\n",
    "        x = self.fc_layers(x)\n",
    "        return x"
   ]
  },
  {
   "cell_type": "markdown",
   "metadata": {},
   "source": [
    "### Model training"
   ]
  },
  {
   "cell_type": "code",
   "execution_count": 9,
   "metadata": {},
   "outputs": [
    {
     "name": "stdout",
     "output_type": "stream",
     "text": [
      "CUDA is available? True\n",
      "cuda\n"
     ]
    }
   ],
   "source": [
    "# Select device\n",
    "print(f\"CUDA is available? {torch.cuda.is_available()}\")\n",
    "dev = torch.device(\"cuda\" if torch.cuda.is_available() else \"cpu\")\n",
    "print(dev)"
   ]
  },
  {
   "cell_type": "code",
   "execution_count": 10,
   "metadata": {},
   "outputs": [],
   "source": [
    "def train(epochs, dev, lr=0.001):\n",
    "    try:\n",
    "        # Create model\n",
    "        model = CNN()\n",
    "        model = model.to(dev)\n",
    "        print(model)\n",
    "        # Optimizer\n",
    "        optimizer = optim.SGD(model.parameters(), lr=lr)\n",
    "        # Initialize history\n",
    "        history_loss = {\"train\": [], \"val\": [], \"test\": []}\n",
    "        history_accuracy = {\"train\": [], \"val\": [], \"test\": []}\n",
    "        # Process each epoch\n",
    "        for epoch in range(epochs):\n",
    "            # Initialize epoch variables\n",
    "            sum_loss = {\"train\": 0, \"val\": 0, \"test\": 0}\n",
    "            sum_accuracy = {\"train\": 0, \"val\": 0, \"test\": 0}\n",
    "            # Process each split\n",
    "            for split in [\"train\", \"val\", \"test\"]:\n",
    "                # Process each batch\n",
    "                for i,(input, labels) in enumerate(loaders[split]):\n",
    "                    # Move to CUDA\n",
    "                    input = input.to(dev)\n",
    "                    labels = labels.to(dev)\n",
    "                    # Reset gradients\n",
    "                    optimizer.zero_grad()\n",
    "                    # Compute output\n",
    "                    pred = model(input)\n",
    "                    loss = F.cross_entropy(pred, labels)\n",
    "                    # Update loss\n",
    "                    sum_loss[split] += loss.item()\n",
    "                    # Check parameter update\n",
    "                    if split == \"train\":\n",
    "                        # Compute gradients\n",
    "                        loss.backward()\n",
    "                        # Optimize\n",
    "                        optimizer.step()\n",
    "                    # Compute accuracy\n",
    "                    _,pred_labels = pred.max(1)\n",
    "                    batch_accuracy = (pred_labels == labels).sum().item()/input.size(0)\n",
    "                    # Update accuracy\n",
    "                    sum_accuracy[split] += batch_accuracy\n",
    "                    \n",
    "                    # print batch info\n",
    "                    #if(i%10 == 0):\n",
    "                    #    print(f\"Batch number: {i} | Loss: {loss}\")\n",
    "                    \n",
    "            # Compute epoch loss/accuracy\n",
    "            epoch_loss = {split: sum_loss[split]/len(loaders[split]) for split in [\"train\", \"val\", \"test\"]}\n",
    "            epoch_accuracy = {split: sum_accuracy[split]/len(loaders[split]) for split in [\"train\", \"val\", \"test\"]}\n",
    "            # Update history\n",
    "            for split in [\"train\", \"val\", \"test\"]:\n",
    "                history_loss[split].append(epoch_loss[split])\n",
    "                history_accuracy[split].append(epoch_accuracy[split])\n",
    "            # Print info\n",
    "            print(f\"Epoch {epoch+1}:\",\n",
    "                  f\"TrL={epoch_loss['train']:.4f},\",\n",
    "                  f\"TrA={epoch_accuracy['train']:.4f},\",\n",
    "                  f\"VL={epoch_loss['val']:.4f},\",\n",
    "                  f\"VA={epoch_accuracy['val']:.4f},\",\n",
    "                  f\"TeL={epoch_loss['test']:.4f},\",\n",
    "                  f\"TeA={epoch_accuracy['test']:.4f},\")\n",
    "            \n",
    "            # Save the model\n",
    "            torch.save(model, \"./models/face_detection_model\" + str(epoch+1))\n",
    "    except KeyboardInterrupt:\n",
    "        print(\"Interrupted\")\n",
    "    finally:\n",
    "        # Plot loss\n",
    "        plt.title(\"Loss\")\n",
    "        for split in [\"train\", \"val\", \"test\"]:\n",
    "            plt.plot(history_loss[split], label=split)\n",
    "        plt.legend()\n",
    "        plt.show()\n",
    "        # Plot accuracy\n",
    "        plt.title(\"Accuracy\")\n",
    "        for split in [\"train\", \"val\", \"test\"]:\n",
    "            plt.plot(history_accuracy[split], label=split)\n",
    "        plt.legend()\n",
    "        plt.show()"
   ]
  },
  {
   "cell_type": "code",
   "execution_count": 11,
   "metadata": {
    "scrolled": false
   },
   "outputs": [
    {
     "name": "stdout",
     "output_type": "stream",
     "text": [
      "CNN(\n",
      "  (conv_layers): Sequential(\n",
      "    (0): Conv2d(3, 64, kernel_size=(3, 3), stride=(1, 1))\n",
      "    (1): ReLU()\n",
      "    (2): Conv2d(64, 128, kernel_size=(3, 3), stride=(1, 1))\n",
      "    (3): ReLU()\n",
      "    (4): Conv2d(128, 128, kernel_size=(3, 3), stride=(1, 1))\n",
      "    (5): ReLU()\n",
      "    (6): AvgPool2d(kernel_size=2, stride=2, padding=0)\n",
      "    (7): Conv2d(128, 256, kernel_size=(3, 3), stride=(1, 1))\n",
      "    (8): ReLU()\n",
      "    (9): AvgPool2d(kernel_size=2, stride=2, padding=0)\n",
      "  )\n",
      "  (fc_layers): Sequential(\n",
      "    (0): Linear(in_features=4096, out_features=1024, bias=True)\n",
      "    (1): ReLU()\n",
      "    (2): Linear(in_features=1024, out_features=2, bias=True)\n",
      "  )\n",
      ")\n",
      "Epoch 1: TrL=0.6085, TrA=0.6717, VL=0.5876, VA=0.6915, TeL=0.5878, TeA=0.6923,\n"
     ]
    },
    {
     "name": "stderr",
     "output_type": "stream",
     "text": [
      "/home/alessandro/anaconda3/lib/python3.7/site-packages/torch/serialization.py:256: UserWarning: Couldn't retrieve source code for container of type CNN. It won't be checked for correctness upon loading.\n",
      "  \"type \" + obj.__name__ + \". It won't be checked \"\n"
     ]
    },
    {
     "name": "stdout",
     "output_type": "stream",
     "text": [
      "Epoch 2: TrL=0.5770, TrA=0.7044, VL=0.5679, VA=0.7131, TeL=0.5678, TeA=0.7129,\n",
      "Epoch 3: TrL=0.5577, TrA=0.7180, VL=0.5495, VA=0.7273, TeL=0.5502, TeA=0.7268,\n",
      "Epoch 4: TrL=0.5363, TrA=0.7314, VL=0.5127, VA=0.7458, TeL=0.5133, TeA=0.7460,\n",
      "Epoch 5: TrL=0.5174, TrA=0.7425, VL=0.4914, VA=0.7627, TeL=0.4920, TeA=0.7631,\n",
      "Epoch 6: TrL=0.4957, TrA=0.7569, VL=0.6936, VA=0.6510, TeL=0.6947, TeA=0.6502,\n",
      "Epoch 7: TrL=0.4796, TrA=0.7658, VL=0.4793, VA=0.7672, TeL=0.4791, TeA=0.7676,\n",
      "Epoch 8: TrL=0.4643, TrA=0.7765, VL=0.4282, VA=0.7989, TeL=0.4286, TeA=0.7985,\n",
      "Epoch 9: TrL=0.4492, TrA=0.7850, VL=0.4400, VA=0.7875, TeL=0.4402, TeA=0.7879,\n",
      "Epoch 10: TrL=0.4373, TrA=0.7926, VL=0.4198, VA=0.8008, TeL=0.4202, TeA=0.8003,\n",
      "Epoch 11: TrL=0.4257, TrA=0.7992, VL=0.4153, VA=0.8039, TeL=0.4151, TeA=0.8045,\n",
      "Epoch 12: TrL=0.4167, TrA=0.8046, VL=0.4013, VA=0.8125, TeL=0.4014, TeA=0.8115,\n",
      "Epoch 13: TrL=0.4068, TrA=0.8080, VL=0.3935, VA=0.8170, TeL=0.3937, TeA=0.8170,\n",
      "Epoch 14: TrL=0.4010, TrA=0.8139, VL=0.3813, VA=0.8240, TeL=0.3816, TeA=0.8236,\n",
      "Epoch 15: TrL=0.3931, TrA=0.8166, VL=0.4747, VA=0.7780, TeL=0.4743, TeA=0.7793,\n",
      "Epoch 16: TrL=0.3871, TrA=0.8205, VL=0.3740, VA=0.8278, TeL=0.3740, TeA=0.8274,\n",
      "Epoch 17: TrL=0.3813, TrA=0.8235, VL=0.3547, VA=0.8381, TeL=0.3552, TeA=0.8372,\n",
      "Epoch 18: TrL=0.3763, TrA=0.8262, VL=0.3598, VA=0.8348, TeL=0.3595, TeA=0.8346,\n",
      "Epoch 19: TrL=0.3709, TrA=0.8288, VL=0.3556, VA=0.8377, TeL=0.3560, TeA=0.8369,\n",
      "Epoch 20: TrL=0.3650, TrA=0.8324, VL=0.3499, VA=0.8406, TeL=0.3497, TeA=0.8405,\n",
      "Epoch 21: TrL=0.3599, TrA=0.8347, VL=0.3646, VA=0.8321, TeL=0.3648, TeA=0.8315,\n",
      "Epoch 22: TrL=0.3576, TrA=0.8358, VL=0.3477, VA=0.8419, TeL=0.3476, TeA=0.8413,\n",
      "Epoch 23: TrL=0.3532, TrA=0.8387, VL=0.3263, VA=0.8538, TeL=0.3257, TeA=0.8527,\n",
      "Epoch 24: TrL=0.3476, TrA=0.8424, VL=0.3260, VA=0.8532, TeL=0.3255, TeA=0.8526,\n",
      "Epoch 25: TrL=0.3459, TrA=0.8416, VL=0.3317, VA=0.8494, TeL=0.3310, TeA=0.8500,\n",
      "Epoch 26: TrL=0.3387, TrA=0.8463, VL=0.3195, VA=0.8562, TeL=0.3187, TeA=0.8556,\n",
      "Epoch 27: TrL=0.3376, TrA=0.8454, VL=0.3304, VA=0.8521, TeL=0.3302, TeA=0.8518,\n",
      "Epoch 28: TrL=0.3339, TrA=0.8497, VL=0.3282, VA=0.8521, TeL=0.3277, TeA=0.8525,\n",
      "Epoch 29: TrL=0.3317, TrA=0.8501, VL=0.3496, VA=0.8414, TeL=0.3491, TeA=0.8419,\n",
      "Epoch 30: TrL=0.3288, TrA=0.8518, VL=0.3097, VA=0.8619, TeL=0.3090, TeA=0.8607,\n",
      "Epoch 31: TrL=0.3247, TrA=0.8539, VL=0.3057, VA=0.8644, TeL=0.3050, TeA=0.8641,\n",
      "Epoch 32: TrL=0.3225, TrA=0.8541, VL=0.3054, VA=0.8641, TeL=0.3050, TeA=0.8643,\n",
      "Epoch 33: TrL=0.3198, TrA=0.8559, VL=0.3029, VA=0.8649, TeL=0.3021, TeA=0.8646,\n",
      "Epoch 34: TrL=0.3154, TrA=0.8579, VL=0.3307, VA=0.8496, TeL=0.3298, TeA=0.8504,\n",
      "Epoch 35: TrL=0.3117, TrA=0.8603, VL=0.3045, VA=0.8643, TeL=0.3043, TeA=0.8642,\n",
      "Epoch 36: TrL=0.3100, TrA=0.8606, VL=0.3116, VA=0.8597, TeL=0.3108, TeA=0.8592,\n",
      "Epoch 37: TrL=0.3070, TrA=0.8629, VL=0.2879, VA=0.8723, TeL=0.2876, TeA=0.8718,\n",
      "Epoch 38: TrL=0.3063, TrA=0.8630, VL=0.2896, VA=0.8697, TeL=0.2887, TeA=0.8704,\n",
      "Epoch 39: TrL=0.3040, TrA=0.8638, VL=0.3231, VA=0.8525, TeL=0.3216, TeA=0.8522,\n",
      "Epoch 40: TrL=0.3020, TrA=0.8655, VL=0.2854, VA=0.8724, TeL=0.2842, TeA=0.8729,\n",
      "Epoch 41: TrL=0.3000, TrA=0.8664, VL=0.2814, VA=0.8755, TeL=0.2810, TeA=0.8752,\n",
      "Epoch 42: TrL=0.2980, TrA=0.8673, VL=0.2933, VA=0.8683, TeL=0.2921, TeA=0.8681,\n",
      "Epoch 43: TrL=0.2957, TrA=0.8690, VL=0.2837, VA=0.8736, TeL=0.2829, TeA=0.8736,\n",
      "Epoch 44: TrL=0.2946, TrA=0.8691, VL=0.2891, VA=0.8719, TeL=0.2881, TeA=0.8711,\n",
      "Epoch 45: TrL=0.2915, TrA=0.8702, VL=0.2885, VA=0.8731, TeL=0.2881, TeA=0.8732,\n",
      "Epoch 46: TrL=0.2893, TrA=0.8719, VL=0.2983, VA=0.8687, TeL=0.2977, TeA=0.8687,\n",
      "Epoch 47: TrL=0.2872, TrA=0.8731, VL=0.3007, VA=0.8654, TeL=0.2996, TeA=0.8655,\n",
      "Epoch 48: TrL=0.2863, TrA=0.8731, VL=0.2783, VA=0.8767, TeL=0.2778, TeA=0.8765,\n",
      "Epoch 49: TrL=0.2834, TrA=0.8747, VL=0.2832, VA=0.8740, TeL=0.2826, TeA=0.8738,\n",
      "Epoch 50: TrL=0.2830, TrA=0.8747, VL=0.3247, VA=0.8558, TeL=0.3249, TeA=0.8562,\n",
      "Epoch 51: TrL=0.2806, TrA=0.8750, VL=0.3134, VA=0.8615, TeL=0.3134, TeA=0.8615,\n",
      "Epoch 52: TrL=0.2796, TrA=0.8762, VL=0.2631, VA=0.8838, TeL=0.2627, TeA=0.8836,\n",
      "Epoch 53: TrL=0.2770, TrA=0.8789, VL=0.2598, VA=0.8861, TeL=0.2595, TeA=0.8860,\n",
      "Epoch 54: TrL=0.2755, TrA=0.8795, VL=0.2546, VA=0.8886, TeL=0.2543, TeA=0.8889,\n",
      "Epoch 55: TrL=0.2756, TrA=0.8783, VL=0.2546, VA=0.8885, TeL=0.2543, TeA=0.8876,\n",
      "Epoch 56: TrL=0.2724, TrA=0.8794, VL=0.2696, VA=0.8804, TeL=0.2686, TeA=0.8807,\n",
      "Epoch 57: TrL=0.2721, TrA=0.8809, VL=0.2605, VA=0.8844, TeL=0.2598, TeA=0.8843,\n",
      "Epoch 58: TrL=0.2700, TrA=0.8815, VL=0.2577, VA=0.8877, TeL=0.2574, TeA=0.8877,\n",
      "Epoch 59: TrL=0.2691, TrA=0.8821, VL=0.2507, VA=0.8902, TeL=0.2500, TeA=0.8904,\n",
      "Epoch 60: TrL=0.2679, TrA=0.8823, VL=0.2703, VA=0.8803, TeL=0.2694, TeA=0.8794,\n",
      "Epoch 61: TrL=0.2666, TrA=0.8816, VL=0.2464, VA=0.8932, TeL=0.2460, TeA=0.8930,\n",
      "Epoch 62: TrL=0.2648, TrA=0.8844, VL=0.2810, VA=0.8758, TeL=0.2813, TeA=0.8758,\n",
      "Epoch 63: TrL=0.2637, TrA=0.8850, VL=0.2419, VA=0.8951, TeL=0.2416, TeA=0.8950,\n",
      "Epoch 64: TrL=0.2620, TrA=0.8849, VL=0.2479, VA=0.8926, TeL=0.2475, TeA=0.8924,\n",
      "Epoch 65: TrL=0.2599, TrA=0.8874, VL=0.2509, VA=0.8896, TeL=0.2501, TeA=0.8893,\n",
      "Epoch 66: TrL=0.2608, TrA=0.8855, VL=0.2403, VA=0.8954, TeL=0.2404, TeA=0.8952,\n",
      "Epoch 67: TrL=0.2586, TrA=0.8868, VL=0.2523, VA=0.8877, TeL=0.2516, TeA=0.8875,\n",
      "Epoch 68: TrL=0.2575, TrA=0.8882, VL=0.2814, VA=0.8737, TeL=0.2803, TeA=0.8739,\n",
      "Epoch 69: TrL=0.2569, TrA=0.8879, VL=0.2365, VA=0.8983, TeL=0.2364, TeA=0.8981,\n",
      "Epoch 70: TrL=0.2561, TrA=0.8886, VL=0.2518, VA=0.8894, TeL=0.2511, TeA=0.8887,\n",
      "Epoch 71: TrL=0.2534, TrA=0.8874, VL=0.2417, VA=0.8952, TeL=0.2413, TeA=0.8943,\n",
      "Epoch 72: TrL=0.2533, TrA=0.8895, VL=0.2353, VA=0.8982, TeL=0.2353, TeA=0.8983,\n",
      "Epoch 73: TrL=0.2527, TrA=0.8891, VL=0.2453, VA=0.8922, TeL=0.2443, TeA=0.8924,\n",
      "Epoch 74: TrL=0.2509, TrA=0.8914, VL=0.2344, VA=0.8985, TeL=0.2339, TeA=0.8985,\n",
      "Epoch 75: TrL=0.2499, TrA=0.8915, VL=0.2452, VA=0.8928, TeL=0.2446, TeA=0.8932,\n",
      "Epoch 76: TrL=0.2500, TrA=0.8916, VL=0.2317, VA=0.9004, TeL=0.2318, TeA=0.9000,\n",
      "Epoch 77: TrL=0.2483, TrA=0.8915, VL=0.2339, VA=0.8996, TeL=0.2338, TeA=0.8993,\n",
      "Epoch 78: TrL=0.2483, TrA=0.8926, VL=0.2278, VA=0.9026, TeL=0.2277, TeA=0.9021,\n",
      "Epoch 79: TrL=0.2454, TrA=0.8923, VL=0.2257, VA=0.9023, TeL=0.2255, TeA=0.9021,\n",
      "Epoch 80: TrL=0.2438, TrA=0.8940, VL=0.2487, VA=0.8916, TeL=0.2493, TeA=0.8916,\n",
      "Epoch 81: TrL=0.2442, TrA=0.8939, VL=0.2384, VA=0.8988, TeL=0.2385, TeA=0.8983,\n",
      "Epoch 82: TrL=0.2428, TrA=0.8959, VL=0.2415, VA=0.8962, TeL=0.2415, TeA=0.8958,\n",
      "Epoch 83: TrL=0.2416, TrA=0.8961, VL=0.2294, VA=0.9011, TeL=0.2288, TeA=0.9010,\n",
      "Epoch 84: TrL=0.2420, TrA=0.8955, VL=0.2351, VA=0.8975, TeL=0.2346, TeA=0.8971,\n",
      "Epoch 85: TrL=0.2403, TrA=0.8957, VL=0.2616, VA=0.8835, TeL=0.2600, TeA=0.8837,\n",
      "Epoch 86: TrL=0.2400, TrA=0.8961, VL=0.2310, VA=0.9009, TeL=0.2310, TeA=0.9005,\n",
      "Epoch 87: TrL=0.2386, TrA=0.8973, VL=0.2686, VA=0.8792, TeL=0.2672, TeA=0.8798,\n",
      "Epoch 88: TrL=0.2386, TrA=0.8978, VL=0.2323, VA=0.9004, TeL=0.2329, TeA=0.8996,\n",
      "Epoch 89: TrL=0.2378, TrA=0.8965, VL=0.2344, VA=0.8993, TeL=0.2344, TeA=0.8991,\n",
      "Epoch 90: TrL=0.2363, TrA=0.8981, VL=0.2184, VA=0.9067, TeL=0.2183, TeA=0.9063,\n",
      "Epoch 91: TrL=0.2344, TrA=0.8978, VL=0.2491, VA=0.8901, TeL=0.2481, TeA=0.8900,\n",
      "Epoch 92: TrL=0.2343, TrA=0.8993, VL=0.2197, VA=0.9046, TeL=0.2191, TeA=0.9047,\n",
      "Epoch 93: TrL=0.2326, TrA=0.8998, VL=0.2160, VA=0.9071, TeL=0.2153, TeA=0.9073,\n",
      "Epoch 94: TrL=0.2331, TrA=0.9000, VL=0.2134, VA=0.9088, TeL=0.2133, TeA=0.9086,\n",
      "Epoch 95: TrL=0.2321, TrA=0.9005, VL=0.2154, VA=0.9087, TeL=0.2154, TeA=0.9084,\n",
      "Epoch 96: TrL=0.2312, TrA=0.9004, VL=0.2235, VA=0.9033, TeL=0.2226, TeA=0.9030,\n",
      "Epoch 97: TrL=0.2302, TrA=0.9018, VL=0.2317, VA=0.9008, TeL=0.2317, TeA=0.9003,\n",
      "Epoch 98: TrL=0.2284, TrA=0.9020, VL=0.2176, VA=0.9073, TeL=0.2175, TeA=0.9072,\n",
      "Epoch 99: TrL=0.2287, TrA=0.9025, VL=0.2301, VA=0.8994, TeL=0.2293, TeA=0.8998,\n",
      "Epoch 100: TrL=0.2274, TrA=0.9025, VL=0.2205, VA=0.9045, TeL=0.2195, TeA=0.9050,\n"
     ]
    },
    {
     "data": {
      "image/png": "[encoded data removed]",
      "text/plain": [
       "<Figure size 432x288 with 1 Axes>"
      ]
     },
     "metadata": {
      "needs_background": "light"
     },
     "output_type": "display_data"
    },
    {
     "data": {
      "image/png": "[encoded data removed]",
      "text/plain": [
       "<Figure size 432x288 with 1 Axes>"
      ]
     },
     "metadata": {
      "needs_background": "light"
     },
     "output_type": "display_data"
    }
   ],
   "source": [
    "train(100, dev, 0.01)"
   ]
  },
  {
   "cell_type": "code",
   "execution_count": 36,
   "metadata": {
    "scrolled": false
   },
   "outputs": [
    {
     "data": {
      "text/plain": [
       "CNN(\n",
       "  (conv_layers): Sequential(\n",
       "    (0): Conv2d(3, 64, kernel_size=(3, 3), stride=(1, 1))\n",
       "    (1): ReLU()\n",
       "    (2): Conv2d(64, 128, kernel_size=(3, 3), stride=(1, 1))\n",
       "    (3): ReLU()\n",
       "    (4): Conv2d(128, 128, kernel_size=(3, 3), stride=(1, 1))\n",
       "    (5): ReLU()\n",
       "    (6): AvgPool2d(kernel_size=2, stride=2, padding=0)\n",
       "    (7): Conv2d(128, 256, kernel_size=(3, 3), stride=(1, 1))\n",
       "    (8): ReLU()\n",
       "    (9): AvgPool2d(kernel_size=2, stride=2, padding=0)\n",
       "  )\n",
       "  (fc_layers): Sequential(\n",
       "    (0): Linear(in_features=4096, out_features=1024, bias=True)\n",
       "    (1): ReLU()\n",
       "    (2): Linear(in_features=1024, out_features=2, bias=True)\n",
       "  )\n",
       ")"
      ]
     },
     "execution_count": 36,
     "metadata": {},
     "output_type": "execute_result"
    }
   ],
   "source": [
    "model = torch.load(\"./models/face_detection_model89\")\n",
    "model.eval()"
   ]
  },
  {
   "cell_type": "code",
   "execution_count": 37,
   "metadata": {},
   "outputs": [],
   "source": [
    "# Get random image\n",
    "base_path = \"../datasets/UCF-101-to-image/Utrain\"\n",
    "classification_path = \"../datasets/UCF-101-to-image-classified/Utrain\"\n",
    "\n",
    "image_paths = glob(os.path.join(base_path, \"*\"))\n",
    "for path in image_paths:\n",
    "    # Load image\n",
    "    img = Image.open(path).convert(\"RGB\")\n",
    "    # Show image\n",
    "    plt.imshow(img)\n",
    "    plt.axis('off')\n",
    "\n",
    "    # Transform image\n",
    "    img = test_transform(img)\n",
    "\n",
    "    # View as a batch\n",
    "    img.unsqueeze_(0)\n",
    "    # Copy to device\n",
    "    img = img.to(dev)\n",
    "    with torch.no_grad():\n",
    "        # Model forward\n",
    "        pred = model(img)\n",
    "    # Get prediction\n",
    "    _,pred = pred.max(1)\n",
    "    pred = pred.item()\n",
    "    print(f\"Predicted: {class_names[pred]}\")\n",
    "    if(pred == 0):\n",
    "        #copia in black\n",
    "        shutil.copy(path, classification_path + \"/black\")\n",
    "    else:\n",
    "        #copia in white\n",
    "        shutil.copy(path, classification_path + \"/white\")"
   ]
  },
  {
   "cell_type": "code",
   "execution_count": null,
   "metadata": {},
   "outputs": [],
   "source": []
  },
  {
   "cell_type": "code",
   "execution_count": null,
   "metadata": {},
   "outputs": [],
   "source": []
  }
 ],
 "metadata": {
  "author": "ML1819",
  "kernelspec": {
   "display_name": "Python 3",
   "language": "python",
   "name": "python3"
  },
  "language_info": {
   "codemirror_mode": {
    "name": "ipython",
    "version": 3
   },
   "file_extension": ".py",
   "mimetype": "text/x-python",
   "name": "python",
   "nbconvert_exporter": "python",
   "pygments_lexer": "ipython3",
   "version": "3.7.3"
  }
 },
 "nbformat": 4,
 "nbformat_minor": 2
}
