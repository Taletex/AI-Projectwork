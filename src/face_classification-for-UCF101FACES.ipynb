{
 "cells": [
  {
   "cell_type": "markdown",
   "metadata": {},
   "source": [
    "## Face classification"
   ]
  },
  {
   "cell_type": "code",
   "execution_count": 49,
   "metadata": {},
   "outputs": [],
   "source": [
    "import torch\n",
    "from matplotlib import pyplot as plt\n",
    "from torchvision import datasets\n",
    "from torchvision.datasets import ImageFolder\n",
    "from torch.utils.data import DataLoader\n",
    "import torchvision.transforms.functional as TF\n",
    "import torchvision.transforms as T\n",
    "import os\n",
    "import argparse\n",
    "import numpy as np\n",
    "import shutil\n",
    "from glob import glob\n",
    "from random import shuffle\n",
    "from PIL import Image\n"
   ]
  },
  {
   "cell_type": "code",
   "execution_count": 61,
   "metadata": {},
   "outputs": [],
   "source": [
    "# Class map\n",
    "class_names = {0: 'Black', 1: 'White'}\n",
    "\n",
    "# Split the dataset into train, test and val folders\n",
    "args = {\"source\": \"../datasets/black_white\", \"dest\": \"../datasets/black_white_splitted\", \"val_size\": 0.1, \"train_size\": 0.7, \"test_size\": 0.2}\n",
    "\n",
    "# Crea le cartelle di destinazione (se non esistono)\n",
    "if not os.path.exists(args[\"dest\"]):\n",
    "    os.makedirs(args[\"dest\"])\n",
    "\n",
    "dest_train = os.path.join(args[\"dest\"], \"train\")\n",
    "if not os.path.exists(dest_train):\n",
    "    os.makedirs(dest_train)\n",
    "\n",
    "dest_test = os.path.join(args[\"dest\"], \"test\")\n",
    "if not os.path.exists(dest_test):\n",
    "    os.makedirs(dest_test)\n",
    "\n",
    "dest_val = os.path.join(args[\"dest\"], \"val\")\n",
    "if not os.path.exists(dest_val):\n",
    "    os.makedirs(dest_val)\n",
    "\n",
    "class_dirs = os.listdir(args[\"source\"])\n",
    "for class_dir in class_dirs:\n",
    "    class_dir_path = os.path.join(args[\"source\"], class_dir)\n",
    "    num_elem = len(os.listdir(class_dir_path))\n",
    "    total_indices = np.arange(num_elem)\n",
    "    val_indices = np.random.choice(total_indices,\n",
    "                                   size=int(num_elem*args[\"val_size\"]),\n",
    "                                   replace=False)\n",
    "    total_indices = np.delete(total_indices, val_indices)\n",
    "    test_indices = np.random.choice(total_indices,\n",
    "                                   size=int(num_elem*args[\"test_size\"]),\n",
    "                                   replace=False)\n",
    "\n",
    "    if not os.path.exists(os.path.join(dest_train, class_dir)):\n",
    "        os.mkdir(os.path.join(dest_train, class_dir))\n",
    "    if not os.path.exists(os.path.join(dest_test, class_dir)):\n",
    "        os.mkdir(os.path.join(dest_test, class_dir))\n",
    "    if not os.path.exists(os.path.join(dest_val, class_dir)):\n",
    "        os.mkdir(os.path.join(dest_val, class_dir))\n",
    "        \n",
    "    for index, filename in enumerate(os.listdir(class_dir_path)):\n",
    "            if index in val_indices:\n",
    "                shutil.copy(os.path.join(class_dir_path, filename), os.path.join(dest_val, class_dir))\n",
    "            elif index in test_indices:\n",
    "                shutil.copy(os.path.join(class_dir_path, filename), os.path.join(dest_test, class_dir))\n",
    "            else:\n",
    "                shutil.copy(os.path.join(class_dir_path, filename), os.path.join(dest_train, class_dir))"
   ]
  },
  {
   "cell_type": "markdown",
   "metadata": {},
   "source": [
    "### Image dataset transforms\n",
    "The `torchvision.transforms` module includes additional classes specific for image pre-processing. Some of them are:\n",
    "\n",
    "- `Resize`: resizes an image;\n",
    "- `RandomCrop`: randomly crops an image (data augmentation during training);\n",
    "- `RandomHorizontalFlip`: randomly flips an image (data augmentation during training);\n",
    "- `CenterCrop`: crops the central area of an image (used in testing, as counterpart to `RandomCrop`);\n",
    "- `Normalize`: performs standardization, given per-channel means and standard deviations.\n",
    "\n",
    "Usually, to do data augmentation, you crop an image to an area which is slightly smaller than the full size."
   ]
  },
  {
   "cell_type": "code",
   "execution_count": 7,
   "metadata": {},
   "outputs": [],
   "source": [
    "# Params\n",
    "resize = T.Resize(32)  \n",
    "random_crop = T.RandomCrop(28)             # train\n",
    "random_hor_flip = T.RandomHorizontalFlip()  # train\n",
    "center_crop = T.CenterCrop(28)             # test and val\n",
    "to_tensor = T.ToTensor()\n",
    "normalize = T.Normalize(mean=(0.4914, 0.4822, 0.4465), std=(0.247, 0.243, 0.261))\n",
    "\n",
    "# Compose transforms\n",
    "train_transform = T.Compose([resize, random_crop, random_hor_flip, to_tensor, normalize])\n",
    "test_transform = T.Compose([resize, center_crop, to_tensor, normalize])\n",
    "val_transform = T.Compose([resize, center_crop, to_tensor, normalize])"
   ]
  },
  {
   "cell_type": "code",
   "execution_count": 8,
   "metadata": {
    "scrolled": true
   },
   "outputs": [
    {
     "name": "stdout",
     "output_type": "stream",
     "text": [
      "Num. classes: 2\n",
      "Num. train samples: 99214\n",
      "Num. valid. samples: 34456\n",
      "Num. test samples: 59094\n"
     ]
    }
   ],
   "source": [
    "# Instantiate datasets\n",
    "root_dir = \"../datasets/\"\n",
    "train_dataset = ImageFolder(os.path.join(root_dir, \"black_white_splitted\", \"train\"), transform=train_transform) \n",
    "val_dataset = ImageFolder(os.path.join(root_dir, \"black_white_splitted\", \"val\"), transform=val_transform)\n",
    "test_dataset = ImageFolder(os.path.join(root_dir, \"black_white_splitted\", \"test\"), transform=test_transform) \n",
    "\n",
    "# Get number of classes (we'll need it in the model)\n",
    "num_classes = len(train_dataset.classes)\n",
    "batch_size = 64\n",
    "\n",
    "# Print dataset statistics\n",
    "print(f\"Num. classes: {num_classes}\")\n",
    "print(f\"Num. train samples: {len(train_dataset)}\")\n",
    "print(f\"Num. valid. samples: {len(val_dataset)}\")\n",
    "print(f\"Num. test samples: {len(test_dataset)}\")\n",
    "\n",
    "# def loader(path):\n",
    "#    print(path)\n",
    "#    return PIL.Image.open(path).convert(\"RGB\")\n",
    "\n",
    "# Instantiate data loaders\n",
    "loaders = {\"train\": DataLoader(dataset=train_dataset, batch_size=batch_size, shuffle=True,  num_workers=4, pin_memory=True),\n",
    "           \"val\":   DataLoader(dataset=val_dataset,   batch_size=batch_size, shuffle=False, num_workers=4, pin_memory=True),\n",
    "           \"test\":  DataLoader(dataset=test_dataset,  batch_size=batch_size, shuffle=False, num_workers=4, pin_memory=True)\n",
    "          }"
   ]
  },
  {
   "cell_type": "code",
   "execution_count": 9,
   "metadata": {},
   "outputs": [
    {
     "data": {
      "text/plain": [
       "torch.Size([3, 28, 28])"
      ]
     },
     "execution_count": 9,
     "metadata": {},
     "output_type": "execute_result"
    }
   ],
   "source": [
    "# Get image size (\"size\" is a property of PIL.Image)\n",
    "train_dataset[0][0].size()"
   ]
  },
  {
   "cell_type": "code",
   "execution_count": 10,
   "metadata": {},
   "outputs": [
    {
     "data": {
      "text/plain": [
       "tensor([[[ 0.3603,  0.6778,  0.8366,  ...,  1.1859,  1.5669,  1.7575],\n",
       "         [ 0.5191,  0.7413,  0.9001,  ...,  0.9795,  1.4240,  1.6781],\n",
       "         [ 0.5826,  0.7572,  0.9001,  ...,  0.8207,  1.3129,  1.5987],\n",
       "         ...,\n",
       "         [-0.4971,  0.2333,  0.6937,  ...,  1.7098,  1.6939,  1.6463],\n",
       "         [-0.6558, -0.0843,  0.7890,  ...,  1.6939,  1.6939,  1.6781],\n",
       "         [-0.5923, -0.4177,  0.5349,  ...,  1.6463,  1.6622,  1.6781]],\n",
       "\n",
       "        [[ 0.4041,  0.7268,  0.8882,  ...,  1.2433,  1.6306,  1.8242],\n",
       "         [ 0.5655,  0.7914,  0.9528,  ...,  1.0335,  1.4853,  1.7435],\n",
       "         [ 0.6300,  0.8075,  0.9528,  ...,  0.8721,  1.3724,  1.6629],\n",
       "         ...,\n",
       "         [-0.4674,  0.2750,  0.7430,  ...,  1.7758,  1.7597,  1.7113],\n",
       "         [-0.6288, -0.0478,  0.8398,  ...,  1.7597,  1.7597,  1.7435],\n",
       "         [-0.5642, -0.3867,  0.5816,  ...,  1.7113,  1.7274,  1.7435]],\n",
       "\n",
       "        [[ 0.5130,  0.8135,  0.9638,  ...,  1.2943,  1.6549,  1.8352],\n",
       "         [ 0.6632,  0.8736,  1.0239,  ...,  1.0990,  1.5197,  1.7601],\n",
       "         [ 0.7233,  0.8886,  1.0239,  ...,  0.9487,  1.4145,  1.6850],\n",
       "         ...,\n",
       "         [-0.2984,  0.3928,  0.8285,  ...,  1.7901,  1.7751,  1.7300],\n",
       "         [-0.4486,  0.0923,  0.9187,  ...,  1.7751,  1.7751,  1.7601],\n",
       "         [-0.3885, -0.2232,  0.6783,  ...,  1.7300,  1.7451,  1.7601]]])"
      ]
     },
     "execution_count": 10,
     "metadata": {},
     "output_type": "execute_result"
    }
   ],
   "source": [
    "# Show an image of a given class\n",
    "train_dataset[train_dataset.targets.index(1)][0]"
   ]
  },
  {
   "cell_type": "markdown",
   "metadata": {},
   "source": [
    "### CNN model"
   ]
  },
  {
   "cell_type": "code",
   "execution_count": 11,
   "metadata": {},
   "outputs": [],
   "source": [
    "# Import\n",
    "import torch.nn as nn\n",
    "import torch.nn.functional as F\n",
    "import torch.optim as optim"
   ]
  },
  {
   "cell_type": "code",
   "execution_count": 12,
   "metadata": {},
   "outputs": [],
   "source": [
    "# Define class\n",
    "class CNN(nn.Module):\n",
    "    \n",
    "    # Constructor\n",
    "    def __init__(self):\n",
    "        # Call parent constructor\n",
    "        super().__init__();\n",
    "        # Create convolutional layers\n",
    "        self.conv_layers = nn.Sequential(\n",
    "            # Layer 1\n",
    "            nn.Conv2d(3, 64, kernel_size=3, padding=0, stride=1),\n",
    "            nn.ReLU(),\n",
    "            # Layer 2\n",
    "            nn.Conv2d(64, 128, kernel_size=3, padding=0, stride=1),\n",
    "            nn.ReLU(),\n",
    "            # Layer 3\n",
    "            nn.Conv2d(128, 128, kernel_size=3, padding=0, stride=1),\n",
    "            nn.ReLU(),\n",
    "            nn.AvgPool2d(kernel_size=2, stride=2),\n",
    "            # Layer 4\n",
    "            nn.Conv2d(128, 256, kernel_size=3, padding=0, stride=1),\n",
    "            nn.ReLU(),\n",
    "            nn.AvgPool2d(kernel_size=2, stride=2)\n",
    "        )\n",
    "        # Create fully-connected layers\n",
    "        self.fc_layers = nn.Sequential(\n",
    "            # FC layer\n",
    "            nn.Linear(4096, 1024),\n",
    "            nn.ReLU(),\n",
    "            # Classification layer\n",
    "            nn.Linear(1024, 2)\n",
    "        )\n",
    "\n",
    "    # Forward\n",
    "    def forward(self, x):\n",
    "        x = self.conv_layers(x)\n",
    "        x = x.view(x.size(0), -1)\n",
    "        x = self.fc_layers(x)\n",
    "        return x"
   ]
  },
  {
   "cell_type": "markdown",
   "metadata": {},
   "source": [
    "### Model training"
   ]
  },
  {
   "cell_type": "code",
   "execution_count": 13,
   "metadata": {},
   "outputs": [
    {
     "name": "stdout",
     "output_type": "stream",
     "text": [
      "CUDA is available? True\n",
      "cuda\n"
     ]
    }
   ],
   "source": [
    "# Select device\n",
    "print(f\"CUDA is available? {torch.cuda.is_available()}\")\n",
    "dev = torch.device(\"cuda\" if torch.cuda.is_available() else \"cpu\")\n",
    "print(dev)"
   ]
  },
  {
   "cell_type": "code",
   "execution_count": 14,
   "metadata": {},
   "outputs": [],
   "source": [
    "def train(epochs, dev, lr=0.001):\n",
    "    try:\n",
    "        # Create model\n",
    "        model = CNN()\n",
    "        model = model.to(dev)\n",
    "        print(model)\n",
    "        # Optimizer\n",
    "        optimizer = optim.SGD(model.parameters(), lr=lr)\n",
    "        # Initialize history\n",
    "        history_loss = {\"train\": [], \"val\": [], \"test\": []}\n",
    "        history_accuracy = {\"train\": [], \"val\": [], \"test\": []}\n",
    "        # Process each epoch\n",
    "        for epoch in range(epochs):\n",
    "            # Initialize epoch variables\n",
    "            sum_loss = {\"train\": 0, \"val\": 0, \"test\": 0}\n",
    "            sum_accuracy = {\"train\": 0, \"val\": 0, \"test\": 0}\n",
    "            # Process each split\n",
    "            for split in [\"train\", \"val\", \"test\"]:\n",
    "                # Process each batch\n",
    "                for i,(input, labels) in enumerate(loaders[split]):\n",
    "                    # Move to CUDA\n",
    "                    input = input.to(dev)\n",
    "                    labels = labels.to(dev)\n",
    "                    # Reset gradients\n",
    "                    optimizer.zero_grad()\n",
    "                    # Compute output\n",
    "                    pred = model(input)\n",
    "                    loss = F.cross_entropy(pred, labels)\n",
    "                    # Update loss\n",
    "                    sum_loss[split] += loss.item()\n",
    "                    # Check parameter update\n",
    "                    if split == \"train\":\n",
    "                        # Compute gradients\n",
    "                        loss.backward()\n",
    "                        # Optimize\n",
    "                        optimizer.step()\n",
    "                    # Compute accuracy\n",
    "                    _,pred_labels = pred.max(1)\n",
    "                    batch_accuracy = (pred_labels == labels).sum().item()/input.size(0)\n",
    "                    # Update accuracy\n",
    "                    sum_accuracy[split] += batch_accuracy\n",
    "                    \n",
    "                    # print batch info\n",
    "                    #if(i%10 == 0):\n",
    "                    #    print(f\"Batch number: {i} | Loss: {loss}\")\n",
    "                    \n",
    "            # Compute epoch loss/accuracy\n",
    "            epoch_loss = {split: sum_loss[split]/len(loaders[split]) for split in [\"train\", \"val\", \"test\"]}\n",
    "            epoch_accuracy = {split: sum_accuracy[split]/len(loaders[split]) for split in [\"train\", \"val\", \"test\"]}\n",
    "            # Update history\n",
    "            for split in [\"train\", \"val\", \"test\"]:\n",
    "                history_loss[split].append(epoch_loss[split])\n",
    "                history_accuracy[split].append(epoch_accuracy[split])\n",
    "            # Print info\n",
    "            print(f\"Epoch {epoch+1}:\",\n",
    "                  f\"TrL={epoch_loss['train']:.4f},\",\n",
    "                  f\"TrA={epoch_accuracy['train']:.4f},\",\n",
    "                  f\"VL={epoch_loss['val']:.4f},\",\n",
    "                  f\"VA={epoch_accuracy['val']:.4f},\",\n",
    "                  f\"TeL={epoch_loss['test']:.4f},\",\n",
    "                  f\"TeA={epoch_accuracy['test']:.4f},\")\n",
    "    except KeyboardInterrupt:\n",
    "        print(\"Interrupted\")\n",
    "    finally:\n",
    "        # Save the model\n",
    "        torch.save(model, \"./face_detection_model\")\n",
    "                  \n",
    "        # Plot loss\n",
    "        plt.title(\"Loss\")\n",
    "        for split in [\"train\", \"val\", \"test\"]:\n",
    "            plt.plot(history_loss[split], label=split)\n",
    "        plt.legend()\n",
    "        plt.show()\n",
    "        # Plot accuracy\n",
    "        plt.title(\"Accuracy\")\n",
    "        for split in [\"train\", \"val\", \"test\"]:\n",
    "            plt.plot(history_accuracy[split], label=split)\n",
    "        plt.legend()\n",
    "        plt.show()"
   ]
  },
  {
   "cell_type": "code",
   "execution_count": 15,
   "metadata": {
    "scrolled": false
   },
   "outputs": [
    {
     "name": "stdout",
     "output_type": "stream",
     "text": [
      "CNN(\n",
      "  (conv_layers): Sequential(\n",
      "    (0): Conv2d(3, 64, kernel_size=(3, 3), stride=(1, 1))\n",
      "    (1): ReLU()\n",
      "    (2): Conv2d(64, 128, kernel_size=(3, 3), stride=(1, 1))\n",
      "    (3): ReLU()\n",
      "    (4): Conv2d(128, 128, kernel_size=(3, 3), stride=(1, 1))\n",
      "    (5): ReLU()\n",
      "    (6): AvgPool2d(kernel_size=2, stride=2, padding=0)\n",
      "    (7): Conv2d(128, 256, kernel_size=(3, 3), stride=(1, 1))\n",
      "    (8): ReLU()\n",
      "    (9): AvgPool2d(kernel_size=2, stride=2, padding=0)\n",
      "  )\n",
      "  (fc_layers): Sequential(\n",
      "    (0): Linear(in_features=4096, out_features=1024, bias=True)\n",
      "    (1): ReLU()\n",
      "    (2): Linear(in_features=1024, out_features=2, bias=True)\n",
      "  )\n",
      ")\n",
      "Epoch 1: TrL=0.6087, TrA=0.6746, VL=0.5772, VA=0.7062, TeL=0.5782, TeA=0.7069,\n",
      "Epoch 2: TrL=0.5754, TrA=0.7050, VL=0.5663, VA=0.7127, TeL=0.5672, TeA=0.7122,\n"
     ]
    },
    {
     "name": "stderr",
     "output_type": "stream",
     "text": [
      "/home/alessandro/.local/lib/python3.6/site-packages/torch/serialization.py:256: UserWarning: Couldn't retrieve source code for container of type CNN. It won't be checked for correctness upon loading.\n",
      "  \"type \" + obj.__name__ + \". It won't be checked \"\n"
     ]
    },
    {
     "data": {
      "image/png": "[encoded data removed]",
      "text/plain": [
       "<Figure size 432x288 with 1 Axes>"
      ]
     },
     "metadata": {
      "needs_background": "light"
     },
     "output_type": "display_data"
    },
    {
     "data": {
      "image/png": "[encoded data removed]",
      "text/plain": [
       "<Figure size 432x288 with 1 Axes>"
      ]
     },
     "metadata": {
      "needs_background": "light"
     },
     "output_type": "display_data"
    }
   ],
   "source": [
    "train(100 dev, 0.01)"
   ]
  },
  {
   "cell_type": "code",
   "execution_count": 18,
   "metadata": {},
   "outputs": [
    {
     "data": {
      "text/plain": [
       "CNN(\n",
       "  (conv_layers): Sequential(\n",
       "    (0): Conv2d(3, 64, kernel_size=(3, 3), stride=(1, 1))\n",
       "    (1): ReLU()\n",
       "    (2): Conv2d(64, 128, kernel_size=(3, 3), stride=(1, 1))\n",
       "    (3): ReLU()\n",
       "    (4): Conv2d(128, 128, kernel_size=(3, 3), stride=(1, 1))\n",
       "    (5): ReLU()\n",
       "    (6): AvgPool2d(kernel_size=2, stride=2, padding=0)\n",
       "    (7): Conv2d(128, 256, kernel_size=(3, 3), stride=(1, 1))\n",
       "    (8): ReLU()\n",
       "    (9): AvgPool2d(kernel_size=2, stride=2, padding=0)\n",
       "  )\n",
       "  (fc_layers): Sequential(\n",
       "    (0): Linear(in_features=4096, out_features=1024, bias=True)\n",
       "    (1): ReLU()\n",
       "    (2): Linear(in_features=1024, out_features=2, bias=True)\n",
       "  )\n",
       ")"
      ]
     },
     "execution_count": 18,
     "metadata": {},
     "output_type": "execute_result"
    }
   ],
   "source": [
    "model = torch.load(\"./face_detection_model\")\n",
    "model.eval()"
   ]
  },
  {
   "cell_type": "code",
   "execution_count": 82,
   "metadata": {},
   "outputs": [
    {
     "name": "stdout",
     "output_type": "stream",
     "text": [
      "Predicted: White\n",
      "Predicted: White\n",
      "Predicted: Black\n",
      "Predicted: White\n",
      "Predicted: Black\n",
      "Predicted: White\n",
      "Predicted: White\n",
      "Predicted: White\n",
      "Predicted: Black\n",
      "Predicted: Black\n",
      "Predicted: White\n",
      "Predicted: White\n",
      "Predicted: Black\n"
     ]
    },
    {
     "data": {
      "image/png": "[encoded data removed]",
      "text/plain": [
       "<Figure size 432x288 with 1 Axes>"
      ]
     },
     "metadata": {
      "needs_background": "light"
     },
     "output_type": "display_data"
    }
   ],
   "source": [
    "# Get random image\n",
    "base_path = \"../datasets/UCF-101-to-image/Utrain\"\n",
    "classification_path = \"../datasets/UCF-101-to-image-classified/Utrain\"\n",
    "\n",
    "image_paths = glob(os.path.join(base_path, \"*\"))\n",
    "for path in image_paths:\n",
    "    # Load image\n",
    "    img = Image.open(path).convert(\"RGB\")\n",
    "    # Show image\n",
    "    plt.imshow(img)\n",
    "    plt.axis('off')\n",
    "\n",
    "    # Transform image\n",
    "    img = test_transform(img)\n",
    "\n",
    "    # View as a batch\n",
    "    img.unsqueeze_(0)\n",
    "    # Copy to device\n",
    "    img = img.to(dev)\n",
    "    with torch.no_grad():\n",
    "        # Model forward\n",
    "        pred = model(img)\n",
    "    # Get prediction\n",
    "    _,pred = pred.max(1)\n",
    "    pred = pred.item()\n",
    "    print(f\"Predicted: {class_names[pred]}\")\n",
    "    if(pred == 0):\n",
    "        #copia in black\n",
    "        shutil.copy(path, classification_path + \"/black\")\n",
    "    else:\n",
    "        #copia in white\n",
    "        shutil.copy(path, classification_path + \"/white\")"
   ]
  },
  {
   "cell_type": "code",
   "execution_count": null,
   "metadata": {},
   "outputs": [],
   "source": []
  },
  {
   "cell_type": "code",
   "execution_count": null,
   "metadata": {},
   "outputs": [],
   "source": []
  }
 ],
 "metadata": {
  "author": "ML1819",
  "kernelspec": {
   "display_name": "Python 3",
   "language": "python",
   "name": "python3"
  },
  "language_info": {
   "codemirror_mode": {
    "name": "ipython",
    "version": 3
   },
   "file_extension": ".py",
   "mimetype": "text/x-python",
   "name": "python",
   "nbconvert_exporter": "python",
   "pygments_lexer": "ipython3",
   "version": "3.6.8"
  }
 },
 "nbformat": 4,
 "nbformat_minor": 2
}
