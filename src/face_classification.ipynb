{
 "cells": [
  {
   "cell_type": "markdown",
   "metadata": {},
   "source": [
    "## Face classification"
   ]
  },
  {
   "cell_type": "code",
   "execution_count": 15,
   "metadata": {},
   "outputs": [],
   "source": [
    "import torch\n",
    "from matplotlib import pyplot as plt\n",
    "from torchvision import datasets\n",
    "from torchvision.datasets import ImageFolder\n",
    "from torch.utils.data import DataLoader\n",
    "import torchvision.transforms.functional as TF\n",
    "import torchvision.transforms as T\n",
    "import os\n",
    "import argparse\n",
    "import numpy as np\n",
    "import shutil\n"
   ]
  },
  {
   "cell_type": "code",
   "execution_count": 16,
   "metadata": {},
   "outputs": [],
   "source": [
    "# Split the dataset into train, test and val folders\n",
    "args = {\"source\": \"../datasets/black_white\", \"dest\": \"../datasets/black_white_splitted\", \"val_size\": 0.1, \"train_size\": 0.7, \"test_size\": 0.2}\n",
    "\n",
    "# Crea le cartelle di destinazione (se non esistono)\n",
    "if not os.path.exists(args[\"dest\"]):\n",
    "    os.makedirs(args[\"dest\"])\n",
    "\n",
    "dest_train = os.path.join(args[\"dest\"], \"train\")\n",
    "if not os.path.exists(dest_train):\n",
    "    os.makedirs(dest_train)\n",
    "\n",
    "dest_test = os.path.join(args[\"dest\"], \"test\")\n",
    "if not os.path.exists(dest_test):\n",
    "    os.makedirs(dest_test)\n",
    "\n",
    "dest_val = os.path.join(args[\"dest\"], \"val\")\n",
    "if not os.path.exists(dest_val):\n",
    "    os.makedirs(dest_val)\n",
    "\n",
    "class_dirs = os.listdir(args[\"source\"])\n",
    "for class_dir in class_dirs:\n",
    "    class_dir_path = os.path.join(args[\"source\"], class_dir)\n",
    "    num_elem = len(os.listdir(class_dir_path))\n",
    "    total_indices = np.arange(num_elem)\n",
    "    val_indices = np.random.choice(total_indices,\n",
    "                                   size=int(num_elem*args[\"val_size\"]),\n",
    "                                   replace=False)\n",
    "    total_indices = np.delete(total_indices, val_indices)\n",
    "    test_indices = np.random.choice(total_indices,\n",
    "                                   size=int(num_elem*args[\"test_size\"]),\n",
    "                                   replace=False)\n",
    "\n",
    "    os.mkdir(os.path.join(dest_train, class_dir))\n",
    "    os.mkdir(os.path.join(dest_test, class_dir))\n",
    "    os.mkdir(os.path.join(dest_val, class_dir))\n",
    "    for index, filename in enumerate(os.listdir(class_dir_path)):\n",
    "            if index in val_indices:\n",
    "                shutil.copy(os.path.join(class_dir_path, filename), os.path.join(dest_val, class_dir))\n",
    "            elif index in test_indices:\n",
    "                shutil.copy(os.path.join(class_dir_path, filename), os.path.join(dest_test, class_dir))\n",
    "            else:\n",
    "                shutil.copy(os.path.join(class_dir_path, filename), os.path.join(dest_train, class_dir))"
   ]
  },
  {
   "cell_type": "markdown",
   "metadata": {},
   "source": [
    "### Image dataset transforms\n",
    "The `torchvision.transforms` module includes additional classes specific for image pre-processing. Some of them are:\n",
    "\n",
    "- `Resize`: resizes an image;\n",
    "- `RandomCrop`: randomly crops an image (data augmentation during training);\n",
    "- `RandomHorizontalFlip`: randomly flips an image (data augmentation during training);\n",
    "- `CenterCrop`: crops the central area of an image (used in testing, as counterpart to `RandomCrop`);\n",
    "- `Normalize`: performs standardization, given per-channel means and standard deviations.\n",
    "\n",
    "Usually, to do data augmentation, you crop an image to an area which is slightly smaller than the full size."
   ]
  },
  {
   "cell_type": "code",
   "execution_count": 3,
   "metadata": {},
   "outputs": [],
   "source": [
    "# Params\n",
    "resize = T.Resize(32)  \n",
    "random_crop = T.RandomCrop(28)             # train\n",
    "random_hor_flip = T.RandomHorizontalFlip()  # train\n",
    "center_crop = T.CenterCrop(28)             # test and val\n",
    "to_tensor = T.ToTensor()\n",
    "normalize = T.Normalize(mean=(0.4914, 0.4822, 0.4465), std=(0.247, 0.243, 0.261))\n",
    "\n",
    "# Compose transforms\n",
    "train_transform = T.Compose([resize, random_crop, random_hor_flip, to_tensor, normalize])\n",
    "test_transform = T.Compose([resize, center_crop, to_tensor, normalize])\n",
    "val_transform = T.Compose([resize, center_crop, to_tensor, normalize])"
   ]
  },
  {
   "cell_type": "code",
   "execution_count": 4,
   "metadata": {
    "scrolled": true
   },
   "outputs": [
    {
     "name": "stdout",
     "output_type": "stream",
     "text": [
      "Num. classes: 2\n",
      "Num. train samples: 70000\n",
      "Num. valid. samples: 10000\n",
      "Num. test samples: 20000\n"
     ]
    }
   ],
   "source": [
    "# Instantiate datasets\n",
    "root_dir = \"../datasets/\"\n",
    "train_dataset = ImageFolder(os.path.join(root_dir, \"black_white\", \"train\"), transform=train_transform) \n",
    "val_dataset = ImageFolder(os.path.join(root_dir, \"black_white\", \"valid\"), transform=val_transform)\n",
    "test_dataset = ImageFolder(os.path.join(root_dir, \"black_white\", \"test\"), transform=test_transform) \n",
    "\n",
    "# Get number of classes (we'll need it in the model)\n",
    "num_classes = len(train_dataset.classes)\n",
    "batch_size = 64\n",
    "\n",
    "# Print dataset statistics\n",
    "print(f\"Num. classes: {num_classes}\")\n",
    "print(f\"Num. train samples: {len(train_dataset)}\")\n",
    "print(f\"Num. valid. samples: {len(val_dataset)}\")\n",
    "print(f\"Num. test samples: {len(test_dataset)}\")\n",
    "\n",
    "# def loader(path):\n",
    "#    print(path)\n",
    "#    return PIL.Image.open(path).convert(\"RGB\")\n",
    "\n",
    "# Instantiate data loaders\n",
    "loaders = {\"train\": DataLoader(dataset=train_dataset, batch_size=batch_size, shuffle=True,  num_workers=4, pin_memory=True),\n",
    "           \"val\":   DataLoader(dataset=val_dataset,   batch_size=batch_size, shuffle=False, num_workers=4, pin_memory=True),\n",
    "           \"test\":  DataLoader(dataset=test_dataset,  batch_size=batch_size, shuffle=False, num_workers=4, pin_memory=True)\n",
    "          }"
   ]
  },
  {
   "cell_type": "code",
   "execution_count": 5,
   "metadata": {},
   "outputs": [
    {
     "data": {
      "text/plain": [
       "torch.Size([3, 28, 28])"
      ]
     },
     "execution_count": 5,
     "metadata": {},
     "output_type": "execute_result"
    }
   ],
   "source": [
    "# Get image size (\"size\" is a property of PIL.Image)\n",
    "train_dataset[0][0].size()"
   ]
  },
  {
   "cell_type": "code",
   "execution_count": 6,
   "metadata": {},
   "outputs": [
    {
     "data": {
      "text/plain": [
       "tensor([[[ 0.7096,  0.6778,  0.6778,  ...,  1.0271,  1.3129,  1.4875],\n",
       "         [ 0.5826,  0.6461,  0.6461,  ...,  0.8525,  1.2018,  1.4082],\n",
       "         [ 0.6143,  0.5667,  0.2650,  ...,  0.6620,  1.0747,  1.3129],\n",
       "         ...,\n",
       "         [-0.6241, -0.2113,  0.2333,  ...,  1.6781,  1.7257,  1.7257],\n",
       "         [-0.7035, -0.4335, -0.0525,  ...,  1.5987,  1.5193,  1.4399],\n",
       "         [-0.7352, -0.6241, -0.3383,  ..., -0.4812, -0.8146, -0.9575]],\n",
       "\n",
       "        [[ 0.7591,  0.7268,  0.7268,  ...,  1.0819,  1.3724,  1.5499],\n",
       "         [ 0.6300,  0.6946,  0.6946,  ...,  0.9044,  1.2594,  1.4692],\n",
       "         [ 0.6623,  0.6139,  0.3073,  ...,  0.7107,  1.1303,  1.3724],\n",
       "         ...,\n",
       "         [-0.5965, -0.1769,  0.2750,  ...,  1.7435,  1.7920,  1.7920],\n",
       "         [-0.6772, -0.4028, -0.0155,  ...,  1.6629,  1.5822,  1.5015],\n",
       "         [-0.7094, -0.5965, -0.3060,  ..., -0.4512, -0.7901, -0.9354]],\n",
       "\n",
       "        [[ 0.8436,  0.8135,  0.8135,  ...,  1.1441,  1.4145,  1.5798],\n",
       "         [ 0.7233,  0.7834,  0.7834,  ...,  0.9788,  1.3093,  1.5047],\n",
       "         [ 0.7534,  0.7083,  0.4228,  ...,  0.7985,  1.1891,  1.4145],\n",
       "         ...,\n",
       "         [-0.4186, -0.0279,  0.3928,  ...,  1.7601,  1.8052,  1.8052],\n",
       "         [-0.4937, -0.2383,  0.1223,  ...,  1.6850,  1.6098,  1.5347],\n",
       "         [-0.5237, -0.4186, -0.1481,  ..., -0.2833, -0.5989, -0.7341]]])"
      ]
     },
     "execution_count": 6,
     "metadata": {},
     "output_type": "execute_result"
    }
   ],
   "source": [
    "# Show an image of a given class\n",
    "train_dataset[train_dataset.targets.index(1)][0]"
   ]
  },
  {
   "cell_type": "markdown",
   "metadata": {},
   "source": [
    "### CNN model"
   ]
  },
  {
   "cell_type": "code",
   "execution_count": 7,
   "metadata": {},
   "outputs": [],
   "source": [
    "# Import\n",
    "import torch.nn as nn\n",
    "import torch.nn.functional as F\n",
    "import torch.optim as optim"
   ]
  },
  {
   "cell_type": "code",
   "execution_count": 8,
   "metadata": {},
   "outputs": [],
   "source": [
    "# Define class\n",
    "class CNN(nn.Module):\n",
    "    \n",
    "    # Constructor\n",
    "    def __init__(self):\n",
    "        # Call parent constructor\n",
    "        super().__init__();\n",
    "        # Create convolutional layers\n",
    "        self.conv_layers = nn.Sequential(\n",
    "            # Layer 1\n",
    "            nn.Conv2d(3, 64, kernel_size=3, padding=0, stride=1),\n",
    "            nn.ReLU(),\n",
    "            # Layer 2\n",
    "            nn.Conv2d(64, 128, kernel_size=3, padding=0, stride=1),\n",
    "            nn.ReLU(),\n",
    "            # Layer 3\n",
    "            nn.Conv2d(128, 128, kernel_size=3, padding=0, stride=1),\n",
    "            nn.ReLU(),\n",
    "            nn.AvgPool2d(kernel_size=2, stride=2),\n",
    "            # Layer 4\n",
    "            nn.Conv2d(128, 256, kernel_size=3, padding=0, stride=1),\n",
    "            nn.ReLU(),\n",
    "            nn.AvgPool2d(kernel_size=2, stride=2)\n",
    "        )\n",
    "        # Create fully-connected layers\n",
    "        self.fc_layers = nn.Sequential(\n",
    "            # FC layer\n",
    "            nn.Linear(4096, 1024),\n",
    "            nn.ReLU(),\n",
    "            # Classification layer\n",
    "            nn.Linear(1024, 2)\n",
    "        )\n",
    "\n",
    "    # Forward\n",
    "    def forward(self, x):\n",
    "        x = self.conv_layers(x)\n",
    "        x = x.view(x.size(0), -1)\n",
    "        x = self.fc_layers(x)\n",
    "        return x"
   ]
  },
  {
   "cell_type": "markdown",
   "metadata": {},
   "source": [
    "### Model training"
   ]
  },
  {
   "cell_type": "code",
   "execution_count": 9,
   "metadata": {},
   "outputs": [
    {
     "name": "stdout",
     "output_type": "stream",
     "text": [
      "CUDA is available? True\n",
      "cuda\n"
     ]
    }
   ],
   "source": [
    "# Select device\n",
    "print(f\"CUDA is available? {torch.cuda.is_available()}\")\n",
    "dev = torch.device(\"cuda\" if torch.cuda.is_available() else \"cpu\")\n",
    "print(dev)"
   ]
  },
  {
   "cell_type": "code",
   "execution_count": 13,
   "metadata": {},
   "outputs": [],
   "source": [
    "def train(epochs, dev, lr=0.001):\n",
    "    try:\n",
    "        # Create model\n",
    "        model = CNN()\n",
    "        model = model.to(dev)\n",
    "        print(model)\n",
    "        # Optimizer\n",
    "        optimizer = optim.SGD(model.parameters(), lr=lr)\n",
    "        # Initialize history\n",
    "        history_loss = {\"train\": [], \"val\": [], \"test\": []}\n",
    "        history_accuracy = {\"train\": [], \"val\": [], \"test\": []}\n",
    "        # Process each epoch\n",
    "        for epoch in range(epochs):\n",
    "            # Initialize epoch variables\n",
    "            sum_loss = {\"train\": 0, \"val\": 0, \"test\": 0}\n",
    "            sum_accuracy = {\"train\": 0, \"val\": 0, \"test\": 0}\n",
    "            # Process each split\n",
    "            for split in [\"train\", \"val\", \"test\"]:\n",
    "                # Process each batch\n",
    "                for i,(input, labels) in enumerate(loaders[split]):\n",
    "                    # Move to CUDA\n",
    "                    input = input.to(dev)\n",
    "                    labels = labels.to(dev)\n",
    "                    # Reset gradients\n",
    "                    optimizer.zero_grad()\n",
    "                    # Compute output\n",
    "                    pred = model(input)\n",
    "                    loss = F.cross_entropy(pred, labels)\n",
    "                    # Update loss\n",
    "                    sum_loss[split] += loss.item()\n",
    "                    # Check parameter update\n",
    "                    if split == \"train\":\n",
    "                        # Compute gradients\n",
    "                        loss.backward()\n",
    "                        # Optimize\n",
    "                        optimizer.step()\n",
    "                    # Compute accuracy\n",
    "                    _,pred_labels = pred.max(1)\n",
    "                    batch_accuracy = (pred_labels == labels).sum().item()/input.size(0)\n",
    "                    # Update accuracy\n",
    "                    sum_accuracy[split] += batch_accuracy\n",
    "                    \n",
    "                    # print batch info\n",
    "                    #if(i%10 == 0):\n",
    "                    #    print(f\"Batch number: {i} | Loss: {loss}\")\n",
    "                    \n",
    "            # Compute epoch loss/accuracy\n",
    "            epoch_loss = {split: sum_loss[split]/len(loaders[split]) for split in [\"train\", \"val\", \"test\"]}\n",
    "            epoch_accuracy = {split: sum_accuracy[split]/len(loaders[split]) for split in [\"train\", \"val\", \"test\"]}\n",
    "            # Update history\n",
    "            for split in [\"train\", \"val\", \"test\"]:\n",
    "                history_loss[split].append(epoch_loss[split])\n",
    "                history_accuracy[split].append(epoch_accuracy[split])\n",
    "            # Print info\n",
    "            print(f\"Epoch {epoch+1}:\",\n",
    "                  f\"TrL={epoch_loss['train']:.4f},\",\n",
    "                  f\"TrA={epoch_accuracy['train']:.4f},\",\n",
    "                  f\"VL={epoch_loss['val']:.4f},\",\n",
    "                  f\"VA={epoch_accuracy['val']:.4f},\",\n",
    "                  f\"TeL={epoch_loss['test']:.4f},\",\n",
    "                  f\"TeA={epoch_accuracy['test']:.4f},\")\n",
    "    except KeyboardInterrupt:\n",
    "        print(\"Interrupted\")\n",
    "    finally:\n",
    "        # Plot loss\n",
    "        plt.title(\"Loss\")\n",
    "        for split in [\"train\", \"val\", \"test\"]:\n",
    "            plt.plot(history_loss[split], label=split)\n",
    "        plt.legend()\n",
    "        plt.show()\n",
    "        # Plot accuracy\n",
    "        plt.title(\"Accuracy\")\n",
    "        for split in [\"train\", \"val\", \"test\"]:\n",
    "            plt.plot(history_accuracy[split], label=split)\n",
    "        plt.legend()\n",
    "        plt.show()"
   ]
  },
  {
   "cell_type": "code",
   "execution_count": 14,
   "metadata": {
    "scrolled": false
   },
   "outputs": [
    {
     "name": "stdout",
     "output_type": "stream",
     "text": [
      "CNN(\n",
      "  (conv_layers): Sequential(\n",
      "    (0): Conv2d(3, 64, kernel_size=(3, 3), stride=(1, 1))\n",
      "    (1): ReLU()\n",
      "    (2): Conv2d(64, 128, kernel_size=(3, 3), stride=(1, 1))\n",
      "    (3): ReLU()\n",
      "    (4): Conv2d(128, 128, kernel_size=(3, 3), stride=(1, 1))\n",
      "    (5): ReLU()\n",
      "    (6): AvgPool2d(kernel_size=2, stride=2, padding=0)\n",
      "    (7): Conv2d(128, 256, kernel_size=(3, 3), stride=(1, 1))\n",
      "    (8): ReLU()\n",
      "    (9): AvgPool2d(kernel_size=2, stride=2, padding=0)\n",
      "  )\n",
      "  (fc_layers): Sequential(\n",
      "    (0): Linear(in_features=4096, out_features=1024, bias=True)\n",
      "    (1): ReLU()\n",
      "    (2): Linear(in_features=1024, out_features=2, bias=True)\n",
      "  )\n",
      ")\n",
      "Epoch 1: TrL=0.6186, TrA=0.6598, VL=0.6118, VA=0.6756, TeL=0.5990, TeA=0.6853,\n",
      "Epoch 2: TrL=0.5881, TrA=0.6928, VL=0.5817, VA=0.7030, TeL=0.5721, TeA=0.7088,\n",
      "Epoch 3: TrL=0.5764, TrA=0.7041, VL=0.5719, VA=0.7098, TeL=0.5623, TeA=0.7157,\n",
      "Epoch 4: TrL=0.5643, TrA=0.7139, VL=0.5607, VA=0.7121, TeL=0.5499, TeA=0.7230,\n",
      "Epoch 5: TrL=0.5513, TrA=0.7232, VL=0.5534, VA=0.7204, TeL=0.5422, TeA=0.7286,\n",
      "Epoch 6: TrL=0.5344, TrA=0.7335, VL=0.5203, VA=0.7412, TeL=0.5054, TeA=0.7510,\n",
      "Epoch 7: TrL=0.5196, TrA=0.7420, VL=0.5437, VA=0.7243, TeL=0.5325, TeA=0.7318,\n",
      "Epoch 8: TrL=0.5037, TrA=0.7528, VL=0.5304, VA=0.7330, TeL=0.5225, TeA=0.7394,\n",
      "Epoch 9: TrL=0.4893, TrA=0.7611, VL=0.4680, VA=0.7806, TeL=0.4607, TeA=0.7839,\n",
      "Epoch 10: TrL=0.4771, TrA=0.7679, VL=0.4630, VA=0.7775, TeL=0.4515, TeA=0.7850,\n",
      "Epoch 11: TrL=0.4636, TrA=0.7767, VL=0.5506, VA=0.7276, TeL=0.5393, TeA=0.7284,\n",
      "Epoch 12: TrL=0.4534, TrA=0.7826, VL=0.4334, VA=0.7971, TeL=0.4223, TeA=0.8017,\n",
      "Epoch 13: TrL=0.4441, TrA=0.7890, VL=0.4701, VA=0.7735, TeL=0.4590, TeA=0.7797,\n",
      "Epoch 14: TrL=0.4369, TrA=0.7920, VL=0.4242, VA=0.7975, TeL=0.4125, TeA=0.8072,\n",
      "Epoch 15: TrL=0.4277, TrA=0.7979, VL=0.4151, VA=0.8054, TeL=0.4046, TeA=0.8107,\n",
      "Epoch 16: TrL=0.4215, TrA=0.8019, VL=0.4757, VA=0.7686, TeL=0.4620, TeA=0.7772,\n",
      "Epoch 17: TrL=0.4167, TrA=0.8048, VL=0.4211, VA=0.8018, TeL=0.4113, TeA=0.8065,\n",
      "Epoch 18: TrL=0.4108, TrA=0.8079, VL=0.3942, VA=0.8164, TeL=0.3838, TeA=0.8242,\n",
      "Epoch 19: TrL=0.4031, TrA=0.8120, VL=0.4044, VA=0.8126, TeL=0.3962, TeA=0.8165,\n",
      "Epoch 20: TrL=0.3986, TrA=0.8137, VL=0.3855, VA=0.8227, TeL=0.3770, TeA=0.8273,\n",
      "Epoch 21: TrL=0.3963, TrA=0.8153, VL=0.3859, VA=0.8223, TeL=0.3785, TeA=0.8273,\n",
      "Epoch 22: TrL=0.3922, TrA=0.8190, VL=0.3815, VA=0.8257, TeL=0.3734, TeA=0.8284,\n",
      "Epoch 23: TrL=0.3845, TrA=0.8218, VL=0.3758, VA=0.8270, TeL=0.3670, TeA=0.8301,\n",
      "Epoch 24: TrL=0.3824, TrA=0.8228, VL=0.3702, VA=0.8318, TeL=0.3636, TeA=0.8343,\n",
      "Epoch 25: TrL=0.3788, TrA=0.8241, VL=0.3995, VA=0.8142, TeL=0.3911, TeA=0.8170,\n",
      "Epoch 26: TrL=0.3750, TrA=0.8262, VL=0.3991, VA=0.8174, TeL=0.3893, TeA=0.8217,\n",
      "Epoch 27: TrL=0.3721, TrA=0.8279, VL=0.3977, VA=0.8153, TeL=0.3885, TeA=0.8204,\n",
      "Epoch 28: TrL=0.3677, TrA=0.8324, VL=0.3636, VA=0.8350, TeL=0.3550, TeA=0.8370,\n",
      "Epoch 29: TrL=0.3657, TrA=0.8319, VL=0.3696, VA=0.8303, TeL=0.3623, TeA=0.8356,\n",
      "Epoch 30: TrL=0.3621, TrA=0.8331, VL=0.3588, VA=0.8357, TeL=0.3507, TeA=0.8407,\n",
      "Epoch 31: TrL=0.3580, TrA=0.8354, VL=0.3808, VA=0.8233, TeL=0.3739, TeA=0.8248,\n",
      "Epoch 32: TrL=0.3537, TrA=0.8384, VL=0.3499, VA=0.8424, TeL=0.3424, TeA=0.8435,\n",
      "Epoch 33: TrL=0.3520, TrA=0.8403, VL=0.3436, VA=0.8421, TeL=0.3364, TeA=0.8467,\n",
      "Epoch 34: TrL=0.3471, TrA=0.8425, VL=0.3515, VA=0.8416, TeL=0.3444, TeA=0.8427,\n",
      "Epoch 35: TrL=0.3449, TrA=0.8416, VL=0.3559, VA=0.8369, TeL=0.3487, TeA=0.8409,\n",
      "Epoch 36: TrL=0.3417, TrA=0.8439, VL=0.3654, VA=0.8331, TeL=0.3576, TeA=0.8345,\n",
      "Epoch 37: TrL=0.3387, TrA=0.8457, VL=0.3622, VA=0.8321, TeL=0.3558, TeA=0.8358,\n",
      "Epoch 38: TrL=0.3366, TrA=0.8466, VL=0.3345, VA=0.8479, TeL=0.3305, TeA=0.8503,\n",
      "Epoch 39: TrL=0.3349, TrA=0.8481, VL=0.3319, VA=0.8476, TeL=0.3258, TeA=0.8541,\n",
      "Epoch 40: TrL=0.3301, TrA=0.8506, VL=0.3284, VA=0.8510, TeL=0.3223, TeA=0.8557,\n",
      "Epoch 41: TrL=0.3276, TrA=0.8514, VL=0.3534, VA=0.8363, TeL=0.3474, TeA=0.8414,\n",
      "Epoch 42: TrL=0.3247, TrA=0.8532, VL=0.3319, VA=0.8504, TeL=0.3254, TeA=0.8541,\n",
      "Epoch 43: TrL=0.3234, TrA=0.8544, VL=0.3324, VA=0.8485, TeL=0.3264, TeA=0.8506,\n",
      "Epoch 44: TrL=0.3201, TrA=0.8555, VL=0.3326, VA=0.8492, TeL=0.3261, TeA=0.8524,\n",
      "Epoch 45: TrL=0.3189, TrA=0.8548, VL=0.3506, VA=0.8439, TeL=0.3441, TeA=0.8466,\n",
      "Epoch 46: TrL=0.3143, TrA=0.8582, VL=0.3210, VA=0.8560, TeL=0.3175, TeA=0.8585,\n",
      "Epoch 47: TrL=0.3145, TrA=0.8583, VL=0.3251, VA=0.8520, TeL=0.3188, TeA=0.8582,\n",
      "Epoch 48: TrL=0.3111, TrA=0.8595, VL=0.3303, VA=0.8508, TeL=0.3227, TeA=0.8546,\n",
      "Epoch 49: TrL=0.3089, TrA=0.8627, VL=0.3164, VA=0.8583, TeL=0.3091, TeA=0.8599,\n",
      "Epoch 50: TrL=0.3080, TrA=0.8617, VL=0.3095, VA=0.8614, TeL=0.3034, TeA=0.8661,\n",
      "Epoch 51: TrL=0.3062, TrA=0.8630, VL=0.3438, VA=0.8463, TeL=0.3376, TeA=0.8474,\n",
      "Epoch 52: TrL=0.3040, TrA=0.8645, VL=0.3440, VA=0.8478, TeL=0.3397, TeA=0.8503,\n",
      "Epoch 53: TrL=0.3032, TrA=0.8631, VL=0.3076, VA=0.8611, TeL=0.3037, TeA=0.8637,\n",
      "Epoch 54: TrL=0.3008, TrA=0.8653, VL=0.3059, VA=0.8635, TeL=0.2998, TeA=0.8683,\n",
      "Epoch 55: TrL=0.2984, TrA=0.8669, VL=0.3148, VA=0.8564, TeL=0.3100, TeA=0.8602,\n",
      "Epoch 56: TrL=0.2959, TrA=0.8686, VL=0.3025, VA=0.8639, TeL=0.2971, TeA=0.8690,\n",
      "Epoch 57: TrL=0.2965, TrA=0.8677, VL=0.3014, VA=0.8621, TeL=0.2955, TeA=0.8682,\n",
      "Epoch 58: TrL=0.2942, TrA=0.8692, VL=0.3004, VA=0.8671, TeL=0.2943, TeA=0.8709,\n",
      "Epoch 59: TrL=0.2916, TrA=0.8709, VL=0.3034, VA=0.8646, TeL=0.2944, TeA=0.8705,\n",
      "Epoch 60: TrL=0.2905, TrA=0.8708, VL=0.3028, VA=0.8626, TeL=0.2964, TeA=0.8686,\n",
      "Epoch 61: TrL=0.2881, TrA=0.8719, VL=0.3021, VA=0.8660, TeL=0.2958, TeA=0.8692,\n",
      "Epoch 62: TrL=0.2886, TrA=0.8704, VL=0.3092, VA=0.8603, TeL=0.3042, TeA=0.8636,\n",
      "Epoch 63: TrL=0.2857, TrA=0.8741, VL=0.3008, VA=0.8646, TeL=0.2963, TeA=0.8671,\n",
      "Epoch 64: TrL=0.2849, TrA=0.8737, VL=0.2983, VA=0.8682, TeL=0.2921, TeA=0.8735,\n",
      "Epoch 65: TrL=0.2842, TrA=0.8738, VL=0.2989, VA=0.8672, TeL=0.2935, TeA=0.8725,\n",
      "Epoch 66: TrL=0.2823, TrA=0.8750, VL=0.2920, VA=0.8712, TeL=0.2869, TeA=0.8737,\n",
      "Epoch 67: TrL=0.2814, TrA=0.8767, VL=0.3072, VA=0.8623, TeL=0.3024, TeA=0.8646,\n",
      "Epoch 68: TrL=0.2806, TrA=0.8764, VL=0.2937, VA=0.8704, TeL=0.2910, TeA=0.8723,\n",
      "Epoch 69: TrL=0.2763, TrA=0.8786, VL=0.3028, VA=0.8649, TeL=0.2976, TeA=0.8678,\n",
      "Epoch 70: TrL=0.2763, TrA=0.8782, VL=0.3380, VA=0.8473, TeL=0.3342, TeA=0.8521,\n",
      "Epoch 71: TrL=0.2758, TrA=0.8781, VL=0.3306, VA=0.8564, TeL=0.3305, TeA=0.8555,\n",
      "Epoch 72: TrL=0.2747, TrA=0.8794, VL=0.2931, VA=0.8698, TeL=0.2880, TeA=0.8719,\n",
      "Epoch 73: TrL=0.2732, TrA=0.8796, VL=0.2853, VA=0.8756, TeL=0.2796, TeA=0.8784,\n",
      "Epoch 74: TrL=0.2729, TrA=0.8800, VL=0.2946, VA=0.8728, TeL=0.2925, TeA=0.8739,\n",
      "Epoch 75: TrL=0.2701, TrA=0.8811, VL=0.3156, VA=0.8589, TeL=0.3099, TeA=0.8598,\n",
      "Epoch 76: TrL=0.2700, TrA=0.8812, VL=0.2850, VA=0.8770, TeL=0.2832, TeA=0.8754,\n",
      "Epoch 77: TrL=0.2684, TrA=0.8827, VL=0.2902, VA=0.8739, TeL=0.2875, TeA=0.8745,\n",
      "Epoch 78: TrL=0.2693, TrA=0.8823, VL=0.2883, VA=0.8761, TeL=0.2880, TeA=0.8740,\n",
      "Epoch 79: TrL=0.2669, TrA=0.8832, VL=0.2852, VA=0.8729, TeL=0.2837, TeA=0.8753,\n",
      "Epoch 80: TrL=0.2648, TrA=0.8843, VL=0.2899, VA=0.8770, TeL=0.2878, TeA=0.8748,\n",
      "Epoch 81: TrL=0.2641, TrA=0.8841, VL=0.2864, VA=0.8772, TeL=0.2871, TeA=0.8754,\n",
      "Epoch 82: TrL=0.2631, TrA=0.8859, VL=0.2859, VA=0.8763, TeL=0.2860, TeA=0.8750,\n",
      "Epoch 83: TrL=0.2624, TrA=0.8841, VL=0.2804, VA=0.8754, TeL=0.2794, TeA=0.8772,\n",
      "Epoch 84: TrL=0.2613, TrA=0.8859, VL=0.2779, VA=0.8815, TeL=0.2746, TeA=0.8797,\n",
      "Epoch 85: TrL=0.2584, TrA=0.8869, VL=0.2768, VA=0.8799, TeL=0.2769, TeA=0.8774,\n",
      "Epoch 86: TrL=0.2576, TrA=0.8876, VL=0.2752, VA=0.8819, TeL=0.2721, TeA=0.8818,\n",
      "Epoch 87: TrL=0.2583, TrA=0.8881, VL=0.2745, VA=0.8795, TeL=0.2741, TeA=0.8804,\n",
      "Epoch 88: TrL=0.2570, TrA=0.8885, VL=0.3074, VA=0.8665, TeL=0.3061, TeA=0.8677,\n",
      "Epoch 89: TrL=0.2563, TrA=0.8883, VL=0.3046, VA=0.8681, TeL=0.3044, TeA=0.8699,\n",
      "Epoch 90: TrL=0.2549, TrA=0.8889, VL=0.2776, VA=0.8810, TeL=0.2764, TeA=0.8775,\n",
      "Epoch 91: TrL=0.2544, TrA=0.8895, VL=0.2842, VA=0.8731, TeL=0.2843, TeA=0.8727,\n",
      "Epoch 92: TrL=0.2546, TrA=0.8882, VL=0.2826, VA=0.8773, TeL=0.2817, TeA=0.8796,\n",
      "Epoch 93: TrL=0.2521, TrA=0.8908, VL=0.2829, VA=0.8767, TeL=0.2850, TeA=0.8747,\n",
      "Epoch 94: TrL=0.2506, TrA=0.8905, VL=0.2718, VA=0.8837, TeL=0.2739, TeA=0.8796,\n",
      "Epoch 95: TrL=0.2504, TrA=0.8908, VL=0.2797, VA=0.8797, TeL=0.2816, TeA=0.8798,\n"
     ]
    },
    {
     "name": "stdout",
     "output_type": "stream",
     "text": [
      "Epoch 96: TrL=0.2493, TrA=0.8919, VL=0.2787, VA=0.8800, TeL=0.2796, TeA=0.8761,\n",
      "Epoch 97: TrL=0.2489, TrA=0.8917, VL=0.2717, VA=0.8813, TeL=0.2712, TeA=0.8805,\n",
      "Epoch 98: TrL=0.2459, TrA=0.8935, VL=0.2701, VA=0.8826, TeL=0.2709, TeA=0.8812,\n",
      "Epoch 99: TrL=0.2462, TrA=0.8939, VL=0.2800, VA=0.8779, TeL=0.2818, TeA=0.8750,\n",
      "Epoch 100: TrL=0.2442, TrA=0.8936, VL=0.2727, VA=0.8814, TeL=0.2733, TeA=0.8820,\n"
     ]
    },
    {
     "data": {
      "image/png": "[encoded data removed]",
      "text/plain": [
       "<Figure size 432x288 with 1 Axes>"
      ]
     },
     "metadata": {
      "needs_background": "light"
     },
     "output_type": "display_data"
    },
    {
     "data": {
      "image/png": "[encoded data removed]",
      "text/plain": [
       "<Figure size 432x288 with 1 Axes>"
      ]
     },
     "metadata": {
      "needs_background": "light"
     },
     "output_type": "display_data"
    }
   ],
   "source": [
    "train(100, dev, 0.01)"
   ]
  },
  {
   "cell_type": "code",
   "execution_count": null,
   "metadata": {},
   "outputs": [],
   "source": []
  },
  {
   "cell_type": "code",
   "execution_count": null,
   "metadata": {},
   "outputs": [],
   "source": []
  }
 ],
 "metadata": {
  "author": "ML1819",
  "kernelspec": {
   "display_name": "Python 3",
   "language": "python",
   "name": "python3"
  },
  "language_info": {
   "codemirror_mode": {
    "name": "ipython",
    "version": 3
   },
   "file_extension": ".py",
   "mimetype": "text/x-python",
   "name": "python",
   "nbconvert_exporter": "python",
   "pygments_lexer": "ipython3",
   "version": "3.6.8"
  }
 },
 "nbformat": 4,
 "nbformat_minor": 2
}
